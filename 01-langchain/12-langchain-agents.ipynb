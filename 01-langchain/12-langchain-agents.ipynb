{
 "cells": [
  {
   "cell_type": "markdown",
   "metadata": {},
   "source": [
    "######"
   ]
  },
  {
   "cell_type": "code",
   "execution_count": 1,
   "metadata": {},
   "outputs": [],
   "source": [
    "%run ../helpers/00-llm.ipynb"
   ]
  },
  {
   "cell_type": "code",
   "execution_count": 2,
   "metadata": {},
   "outputs": [
    {
     "name": "stderr",
     "output_type": "stream",
     "text": [
      "INFO:helpers.llm:Using AzureOpenAI.\n"
     ]
    }
   ],
   "source": [
    "from helpers.llm import initialize_llm, logger, pretty_print_docs\n",
    "\n",
    "llm, _, embeddings = initialize_llm() "
   ]
  },
  {
   "cell_type": "code",
   "execution_count": 7,
   "metadata": {},
   "outputs": [],
   "source": [
    "from langchain_experimental.agents.agent_toolkits import create_python_agent\n",
    "from langchain_community.tools import DuckDuckGoSearchResults\n",
    "from langchain.prompts import PromptTemplate"
   ]
  },
  {
   "cell_type": "markdown",
   "metadata": {},
   "source": [
    "# Agente de Busca e Resumo"
   ]
  },
  {
   "cell_type": "code",
   "execution_count": 12,
   "metadata": {},
   "outputs": [],
   "source": [
    "ddg_search = DuckDuckGoSearchResults()"
   ]
  },
  {
   "cell_type": "code",
   "execution_count": 13,
   "metadata": {},
   "outputs": [],
   "source": [
    "agent_executor = create_python_agent(\n",
    "    llm=llm,\n",
    "    tool=ddg_search,  \n",
    "    verbose=True\n",
    ")"
   ]
  },
  {
   "cell_type": "code",
   "execution_count": 14,
   "metadata": {},
   "outputs": [],
   "source": [
    "prompt_template = PromptTemplate(\n",
    "    input_variables=[\"query\"],\n",
    "    template=\"\"\"\n",
    "    Pesquise na web sobre {query} e forneça um resumo abrangente sobre o assunto.\n",
    "    \"\"\"\n",
    ")"
   ]
  },
  {
   "cell_type": "code",
   "execution_count": 15,
   "metadata": {},
   "outputs": [
    {
     "name": "stdout",
     "output_type": "stream",
     "text": [
      "\n",
      "    Pesquise na web sobre Linus Torvalds e forneça um resumo abrangente sobre o assunto.\n",
      "    \n"
     ]
    }
   ],
   "source": [
    "query = \"Linus Torvalds\"\n",
    "prompt = prompt_template.format(query=query)\n",
    "print(prompt)"
   ]
  },
  {
   "cell_type": "code",
   "execution_count": 16,
   "metadata": {},
   "outputs": [
    {
     "name": "stdout",
     "output_type": "stream",
     "text": [
      "\n",
      "\n",
      "\u001b[1m> Entering new AgentExecutor chain...\u001b[0m\n"
     ]
    },
    {
     "name": "stderr",
     "output_type": "stream",
     "text": [
      "INFO:httpx:HTTP Request: POST https://trainning-grassato-01.openai.azure.com/openai/deployments/gpt-4.1/chat/completions?api-version=2025-01-01-preview \"HTTP/1.1 200 OK\"\n",
      "/home/grassato/curso-langchain/.venv/lib/python3.12/site-packages/langchain_community/utilities/duckduckgo_search.py:63: RuntimeWarning: This package (`duckduckgo_search`) has been renamed to `ddgs`! Use `pip install ddgs` instead.\n",
      "  with DDGS() as ddgs:\n"
     ]
    },
    {
     "name": "stdout",
     "output_type": "stream",
     "text": [
      "\u001b[32;1m\u001b[1;3mAction: duckduckgo_results_json\n",
      "Action Input: Linus Torvalds resumo abrangente\u001b[0m"
     ]
    },
    {
     "name": "stderr",
     "output_type": "stream",
     "text": [
      "INFO:primp:response: https://www.bing.com/search?q=Linus+Torvalds+resumo+abrangente&filters=ex1%3A%22ez5_19939_20304%22 200\n"
     ]
    },
    {
     "name": "stdout",
     "output_type": "stream",
     "text": [
      "\n",
      "Observation: \u001b[36;1m\u001b[1;3msnippet: May 1, 2017 · Links to popular distribution download pages. 24 Popular Linux Distributions. Explore different Linux …, title: Download Linux | Linux.org, link: https://www.linux.org/pages/download/, snippet: 此时，Linus还没想到要把这项成果开源。 在Linux发布到网上一段时间后，有个做“免费软件”的朋友来找Linus，问他有没有考虑将Linux的源代码开放出 …, title: Linux 之父 Linus 到底是怎样的一个人？ - 知乎, link: https://www.zhihu.com/question/27638757/answers/updated, snippet: May 13, 2009 · Linux.com is the go-to resource for open source professionals to learn about the latest in Linux and open source …, title: Linux.com - News For Open Source Professionals, link: https://www.linux.com/, snippet: Linus 的父母都是共产主义者，他从小在「苏联就是最好的」这样的话语环境下成长，这或许就是他开源理念的源头。 做开源不意味着他认为所有技术都 …, title: Linux 之父 Linus 到底是怎样的一个人？ - 知乎, link: https://www.zhihu.com/question/27638757\u001b[0m\n",
      "Thought:"
     ]
    },
    {
     "name": "stderr",
     "output_type": "stream",
     "text": [
      "INFO:httpx:HTTP Request: POST https://trainning-grassato-01.openai.azure.com/openai/deployments/gpt-4.1/chat/completions?api-version=2025-01-01-preview \"HTTP/1.1 200 OK\"\n"
     ]
    },
    {
     "name": "stdout",
     "output_type": "stream",
     "text": [
      "\u001b[32;1m\u001b[1;3mFinal Answer: Linus Torvalds é um engenheiro de software finlandês, conhecido mundialmente como o criador do kernel Linux, o núcleo do sistema operacional Linux. Ele iniciou o projeto em 1991 enquanto era estudante universitário, inicialmente como um hobby, mas rapidamente o Linux se tornou um dos sistemas operacionais mais populares do mundo, especialmente em servidores, supercomputadores e dispositivos embarcados. Torvalds também é responsável pelo desenvolvimento do sistema de controle de versões Git, amplamente utilizado por desenvolvedores de software. Sua filosofia de software livre e código aberto influenciou profundamente a indústria de tecnologia. Linus é conhecido por seu estilo direto e por defender a colaboração aberta na comunidade de desenvolvimento de software.\u001b[0m\n",
      "\n",
      "\u001b[1m> Finished chain.\u001b[0m\n"
     ]
    }
   ],
   "source": [
    "response = agent_executor.invoke(prompt)"
   ]
  },
  {
   "cell_type": "code",
   "execution_count": 17,
   "metadata": {},
   "outputs": [
    {
     "name": "stdout",
     "output_type": "stream",
     "text": [
      "Entrada do agente: \n",
      "    Pesquise na web sobre Linus Torvalds e forneça um resumo abrangente sobre o assunto.\n",
      "    \n"
     ]
    }
   ],
   "source": [
    "print(\"Entrada do agente:\", response['input'])"
   ]
  },
  {
   "cell_type": "code",
   "execution_count": 18,
   "metadata": {},
   "outputs": [
    {
     "name": "stdout",
     "output_type": "stream",
     "text": [
      "Saída do agente: Linus Torvalds é um engenheiro de software finlandês, conhecido mundialmente como o criador do kernel Linux, o núcleo do sistema operacional Linux. Ele iniciou o projeto em 1991 enquanto era estudante universitário, inicialmente como um hobby, mas rapidamente o Linux se tornou um dos sistemas operacionais mais populares do mundo, especialmente em servidores, supercomputadores e dispositivos embarcados. Torvalds também é responsável pelo desenvolvimento do sistema de controle de versões Git, amplamente utilizado por desenvolvedores de software. Sua filosofia de software livre e código aberto influenciou profundamente a indústria de tecnologia. Linus é conhecido por seu estilo direto e por defender a colaboração aberta na comunidade de desenvolvimento de software.\n"
     ]
    }
   ],
   "source": [
    "print(\"Saída do agente:\", response['output'])"
   ]
  },
  {
   "cell_type": "markdown",
   "metadata": {},
   "source": [
    "### initialize_agent (API \"clássica\")\n",
    "\n",
    "Parte da API antiga (AgentExecutor)\n",
    "\n",
    "Usado para criar agentes baseados em prompt templates e Tool definitions\n",
    "\n",
    "Suporta vários tipos de agentes como zero-shot-react-description, react-docstore, etc.\n",
    "\n",
    "Abstrai detalhes e é mais pronto para uso rápido"
   ]
  },
  {
   "cell_type": "code",
   "execution_count": null,
   "metadata": {},
   "outputs": [],
   "source": [
    "from langchain.tools import tool\n",
    "from pydantic import BaseModel, Field\n",
    "\n",
    "# Definindo o esquema de entrada para a ferramenta\n",
    "class MultiplicacaoInput(BaseModel):\n",
    "    x: int = Field(description=\"Primeiro número inteiro a ser multiplicado\")\n",
    "    y: int = Field(description=\"Segundo número inteiro a ser multiplicado\")\n",
    "\n",
    "@tool(args_schema=MultiplicacaoInput)\n",
    "def multiplicar(x: int, y: int) -> int:\n",
    "    \"\"\"Multiplica dois números inteiros\"\"\"\n",
    "    print(f\"Multiplicando {x} por {y}\")\n",
    "    return x * y\n"
   ]
  },
  {
   "cell_type": "code",
   "execution_count": null,
   "metadata": {},
   "outputs": [],
   "source": [
    "from langchain.tools import tool\n",
    "import requests\n",
    "\n",
    "@tool\n",
    "def prever_idade(nome: str) -> str:\n",
    "    \"\"\"Prevê a idade média com base em um nome.\"\"\"\n",
    "    try:\n",
    "        resposta = requests.get(f\"https://api.agify.io/?name={nome}\")\n",
    "        if resposta.status_code == 200:\n",
    "            idade = resposta.json().get(\"age\", \"desconhecida\")\n",
    "            return f\"A idade média para o nome {nome} é {idade} anos.\"\n",
    "        else:\n",
    "            return f\"Erro ao consultar idade para {nome}.\"\n",
    "    except Exception as e:\n",
    "        return f\"Erro de conexão: {str(e)}\""
   ]
  },
  {
   "cell_type": "code",
   "execution_count": null,
   "metadata": {},
   "outputs": [],
   "source": [
    "from langchain.agents import initialize_agent, AgentType\n",
    "\n",
    "tools = [multiplicar, ddg_search, prever_idade]\n",
    "\n",
    "agent = initialize_agent(\n",
    "        tools=tools,\n",
    "        llm=llm,\n",
    "        agent=AgentType.STRUCTURED_CHAT_ZERO_SHOT_REACT_DESCRIPTION,\n",
    "        handle_parsing_errors=True,\n",
    "        verbose=True,\n",
    "    )"
   ]
  },
  {
   "cell_type": "markdown",
   "metadata": {},
   "source": [
    "## Tipos de `AgentType` suportados por `initialize_agent`\n",
    "\n",
    "| AgentType                           | Descrição                                                                                          | Quando usar                                                  |\n",
    "|-------------------------------------|-----------------------------------------------------------------------------------------------------|--------------------------------------------------------------|\n",
    "| `zero-shot-react-description`       | **Mais comum.** O agente escolhe ferramentas com base na descrição, sem exemplos prévios (zero-shot). | Quando quer simplicidade e ferramentas bem descritas         |\n",
    "| `react-docstore`                    | Usa a técnica **ReAct** (Reasoning + Acting) com base em docstore (busca e raciocínio explícito).   | Quando quer transparência no raciocínio + busca em documentos|\n",
    "| `self-ask-with-search`              | Divide perguntas complexas em subperguntas e usa busca para responder.                             | Quando o LLM sozinho não tem contexto e precisa pesquisar    |\n",
    "| `conversational-react-description` | Extende o `zero-shot-react-description` com histórico de conversa.                                 | Quando precisa de contexto de conversas anteriores           |\n",
    "| `chat-zero-shot-react-description` | Versão para LLMs **chat-based** (ex: `gpt-3.5`, `gpt-4`) do `zero-shot-react-description`.           | Quando usa um modelo chat e quer interações mais naturais    |\n",
    "| `structured-chat-zero-shot-react-description` | Usa ferramentas com parâmetros estruturados (via pydantic), com raciocínio passo a passo. | Quando quer melhor controle de input/output das tools        |"
   ]
  },
  {
   "cell_type": "code",
   "execution_count": null,
   "metadata": {},
   "outputs": [],
   "source": [
    "pergunta = \"Qual é a capital da Guiana?\"\n",
    "pergunta = \"Qual o valor de 9 vezes 10?\"\n",
    "#pergunta = \"Qual a idade para o nome Diego?\"\n",
    "response = agent.invoke({\n",
    "        \"input\": f\"{pergunta}\"\n",
    "    })"
   ]
  },
  {
   "cell_type": "code",
   "execution_count": null,
   "metadata": {},
   "outputs": [],
   "source": [
    "print(\"Saída do agente:\", response['output'])\n",
    "print(response)"
   ]
  },
  {
   "cell_type": "markdown",
   "metadata": {},
   "source": [
    "#### create_tool_calling_agent (Nova API baseada em Runnable)\n",
    "Faz parte da nova arquitetura do LangChain (Runnable, Executor, Agents v2)\n",
    "\n",
    "Mais modular e personalizável\n",
    "\n",
    "Usa o novo paradigma de tool calling via OpenAI function calling ou equivalente\n",
    "\n",
    "Recomendado para novos projetos"
   ]
  },
  {
   "cell_type": "code",
   "execution_count": null,
   "metadata": {},
   "outputs": [],
   "source": [
    "from langchain.agents import AgentExecutor, create_tool_calling_agent, create_react_agent, tool\n",
    "from langchain_core.prompts import ChatPromptTemplate\n",
    "\n",
    "tools = [multiplicar]\n",
    "\n",
    "prompt = ChatPromptTemplate.from_messages(\n",
    "    [\n",
    "        (\"system\", \"You are a helpful assistant\"),\n",
    "        (\"human\", \"{input}\"),\n",
    "        (\"placeholder\", \"{agent_scratchpad}\"),\n",
    "    ]\n",
    ")\n",
    "agent = create_tool_calling_agent(llm, tools, prompt)\n",
    "\n",
    "agent_executor = AgentExecutor(agent=agent, tools=tools, verbose=True)"
   ]
  },
  {
   "cell_type": "code",
   "execution_count": null,
   "metadata": {},
   "outputs": [],
   "source": [
    "response = agent_executor.invoke({\"input\": \"Qual o valor de 9 vezes 10?\"})\n",
    "print(\"Saída do agente:\", response['output'])\n",
    " "
   ]
  },
  {
   "cell_type": "code",
   "execution_count": null,
   "metadata": {},
   "outputs": [],
   "source": [
    "from langchain.agents import AgentExecutor, create_tool_calling_agent, create_react_agent, tool\n",
    "from langchain_core.prompts import ChatPromptTemplate\n",
    "tools = [ ddg_search, prever_idade]\n",
    "\n",
    "# Define the prompt template\n",
    "template = '''Answer the following questions as best you can. You have access to the following tools:\n",
    "\n",
    "{tools}\n",
    "\n",
    "Use the following format:\n",
    "\n",
    "Question: the input question you must answer\n",
    "Thought: you should always think about what to do\n",
    "Action: the action to take, should be one of [{tool_names}]\n",
    "Action Input: the input to the action\n",
    "Thought: I now know the final answer\n",
    "Final Answer: the final answer to the original input question\n",
    "\n",
    "Begin!\n",
    "\n",
    "Question: {input}\n",
    "Thought:{agent_scratchpad}'''\n",
    "\n",
    "prompt = PromptTemplate(input_variables=[\"input\", \"chat_history\", \"agent_scratchpad\"], template=template)\n",
    " \n",
    "agent = create_react_agent(llm=llm, tools=tools, prompt=prompt)\n",
    "\n"
   ]
  },
  {
   "cell_type": "code",
   "execution_count": null,
   "metadata": {},
   "outputs": [],
   "source": [
    "agent_executor = AgentExecutor(agent=agent, tools=tools, verbose=True,handle_parsing_errors=True)\n",
    "\n",
    "pergunta = \"Qual é a capital da Guiana?\"\n",
    "pergunta = \"Qual a idade para o nome Diego?\"\n",
    "pergunta = \"Qual a idade para o nome Rafael?\"\n",
    "response = agent_executor.invoke({\"input\": pergunta})\n",
    "\n",
    "print(\"Saída do agente:\", response['output'])\n",
    " "
   ]
  }
 ],
 "metadata": {
  "kernelspec": {
   "display_name": ".venv (3.12.3)",
   "language": "python",
   "name": "python3"
  },
  "language_info": {
   "codemirror_mode": {
    "name": "ipython",
    "version": 3
   },
   "file_extension": ".py",
   "mimetype": "text/x-python",
   "name": "python",
   "nbconvert_exporter": "python",
   "pygments_lexer": "ipython3",
   "version": "3.12.3"
  },
  "orig_nbformat": 4
 },
 "nbformat": 4,
 "nbformat_minor": 2
}
