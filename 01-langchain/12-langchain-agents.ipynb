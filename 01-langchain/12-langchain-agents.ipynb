{
 "cells": [
  {
   "cell_type": "markdown",
   "metadata": {},
   "source": [
    "######"
   ]
  },
  {
   "cell_type": "code",
   "execution_count": 14,
   "metadata": {},
   "outputs": [],
   "source": [
    "%run ../helpers/00-llm.ipynb"
   ]
  },
  {
   "cell_type": "code",
   "execution_count": 15,
   "metadata": {},
   "outputs": [
    {
     "name": "stderr",
     "output_type": "stream",
     "text": [
      "INFO:helpers.llm:Using AzureOpenAI.\n"
     ]
    }
   ],
   "source": [
    "from helpers.llm import initialize_llm, logger, pretty_print_docs\n",
    "\n",
    "llm, _, embeddings = initialize_llm() "
   ]
  },
  {
   "cell_type": "code",
   "execution_count": 3,
   "metadata": {},
   "outputs": [],
   "source": [
    "from langchain_experimental.agents.agent_toolkits import create_python_agent\n",
    "from langchain_community.tools import DuckDuckGoSearchResults\n",
    "from langchain.prompts import PromptTemplate"
   ]
  },
  {
   "cell_type": "markdown",
   "metadata": {},
   "source": [
    "# Agente de Busca e Resumo"
   ]
  },
  {
   "cell_type": "code",
   "execution_count": 4,
   "metadata": {},
   "outputs": [],
   "source": [
    "ddg_search = DuckDuckGoSearchResults()"
   ]
  },
  {
   "cell_type": "code",
   "execution_count": 5,
   "metadata": {},
   "outputs": [],
   "source": [
    "agent_executor = create_python_agent(\n",
    "    llm=llm,\n",
    "    tool=ddg_search, \n",
    "    verbose=True\n",
    ")"
   ]
  },
  {
   "cell_type": "code",
   "execution_count": 6,
   "metadata": {},
   "outputs": [],
   "source": [
    "prompt_template = PromptTemplate(\n",
    "    input_variables=[\"query\"],\n",
    "    template=\"\"\"\n",
    "    Pesquise na web sobre {query} e forneça um resumo abrangente sobre o assunto.\n",
    "    \"\"\"\n",
    ")"
   ]
  },
  {
   "cell_type": "code",
   "execution_count": 7,
   "metadata": {},
   "outputs": [
    {
     "name": "stdout",
     "output_type": "stream",
     "text": [
      "\n",
      "    Pesquise na web sobre Linus Torvalds e forneça um resumo abrangente sobre o assunto.\n",
      "    \n"
     ]
    }
   ],
   "source": [
    "query = \"Linus Torvalds\"\n",
    "prompt = prompt_template.format(query=query)\n",
    "print(prompt)"
   ]
  },
  {
   "cell_type": "code",
   "execution_count": 8,
   "metadata": {},
   "outputs": [
    {
     "name": "stdout",
     "output_type": "stream",
     "text": [
      "\n",
      "\n",
      "\u001b[1m> Entering new AgentExecutor chain...\u001b[0m\n"
     ]
    },
    {
     "name": "stderr",
     "output_type": "stream",
     "text": [
      "INFO:httpx:HTTP Request: POST https://trainning-grassato-01.openai.azure.com/openai/deployments/gpt-4.1/chat/completions?api-version=2025-01-01-preview \"HTTP/1.1 200 OK\"\n",
      "/home/grassato/langchain-for-beginners/.venv/lib/python3.12/site-packages/langchain_community/utilities/duckduckgo_search.py:63: RuntimeWarning: This package (`duckduckgo_search`) has been renamed to `ddgs`! Use `pip install ddgs` instead.\n",
      "  with DDGS() as ddgs:\n"
     ]
    },
    {
     "name": "stdout",
     "output_type": "stream",
     "text": [
      "\u001b[32;1m\u001b[1;3mAction: duckduckgo_results_json\n",
      "Action Input: Linus Torvalds resumo abrangente\u001b[0m"
     ]
    },
    {
     "name": "stderr",
     "output_type": "stream",
     "text": [
      "INFO:primp:response: https://www.bing.com/search?q=Linus+Torvalds+resumo+abrangente&filters=ex1%3A%22ez5_19939_20304%22 200\n"
     ]
    },
    {
     "name": "stdout",
     "output_type": "stream",
     "text": [
      "\n",
      "Observation: \u001b[36;1m\u001b[1;3m\u001b[0m\n",
      "Thought:"
     ]
    },
    {
     "name": "stderr",
     "output_type": "stream",
     "text": [
      "INFO:httpx:HTTP Request: POST https://trainning-grassato-01.openai.azure.com/openai/deployments/gpt-4.1/chat/completions?api-version=2025-01-01-preview \"HTTP/1.1 200 OK\"\n"
     ]
    },
    {
     "name": "stdout",
     "output_type": "stream",
     "text": [
      "\u001b[32;1m\u001b[1;3mFinal Answer: Linus Torvalds é um engenheiro de software finlandês, conhecido principalmente por ser o criador e principal desenvolvedor do núcleo (kernel) do sistema operacional Linux. Nascido em 28 de dezembro de 1969, em Helsinque, Finlândia, Torvalds iniciou o desenvolvimento do Linux em 1991 enquanto era estudante na Universidade de Helsinque. O Linux tornou-se um dos sistemas operacionais mais importantes do mundo, sendo amplamente utilizado em servidores, supercomputadores, dispositivos móveis (como o Android) e sistemas embarcados. Além do Linux, Torvalds também criou o sistema de controle de versões Git, amplamente utilizado no desenvolvimento de software. Ele é reconhecido por sua contribuição significativa ao software livre e de código aberto, recebendo diversos prêmios e homenagens ao longo de sua carreira. Atualmente, Torvalds continua a liderar o desenvolvimento do kernel Linux.\u001b[0m\n",
      "\n",
      "\u001b[1m> Finished chain.\u001b[0m\n"
     ]
    }
   ],
   "source": [
    "response = agent_executor.invoke(prompt)"
   ]
  },
  {
   "cell_type": "code",
   "execution_count": 9,
   "metadata": {},
   "outputs": [
    {
     "name": "stdout",
     "output_type": "stream",
     "text": [
      "Entrada do agente: \n",
      "    Pesquise na web sobre Linus Torvalds e forneça um resumo abrangente sobre o assunto.\n",
      "    \n"
     ]
    }
   ],
   "source": [
    "print(\"Entrada do agente:\", response['input'])"
   ]
  },
  {
   "cell_type": "code",
   "execution_count": 10,
   "metadata": {},
   "outputs": [
    {
     "name": "stdout",
     "output_type": "stream",
     "text": [
      "Saída do agente: Linus Torvalds é um engenheiro de software finlandês, conhecido principalmente por ser o criador e principal desenvolvedor do núcleo (kernel) do sistema operacional Linux. Nascido em 28 de dezembro de 1969, em Helsinque, Finlândia, Torvalds iniciou o desenvolvimento do Linux em 1991 enquanto era estudante na Universidade de Helsinque. O Linux tornou-se um dos sistemas operacionais mais importantes do mundo, sendo amplamente utilizado em servidores, supercomputadores, dispositivos móveis (como o Android) e sistemas embarcados. Além do Linux, Torvalds também criou o sistema de controle de versões Git, amplamente utilizado no desenvolvimento de software. Ele é reconhecido por sua contribuição significativa ao software livre e de código aberto, recebendo diversos prêmios e homenagens ao longo de sua carreira. Atualmente, Torvalds continua a liderar o desenvolvimento do kernel Linux.\n"
     ]
    }
   ],
   "source": [
    "print(\"Saída do agente:\", response['output'])"
   ]
  },
  {
   "cell_type": "markdown",
   "metadata": {},
   "source": [
    "### initialize_agent (API \"clássica\")\n",
    "\n",
    "Parte da API antiga (AgentExecutor)\n",
    "\n",
    "Usado para criar agentes baseados em prompt templates e Tool definitions\n",
    "\n",
    "Suporta vários tipos de agentes como zero-shot-react-description, react-docstore, etc.\n",
    "\n",
    "Abstrai detalhes e é mais pronto para uso rápido"
   ]
  },
  {
   "cell_type": "code",
   "execution_count": 11,
   "metadata": {},
   "outputs": [],
   "source": [
    "from langchain.tools import tool\n",
    "from pydantic import BaseModel, Field\n",
    "\n",
    "# Definindo o esquema de entrada para a ferramenta\n",
    "class MultiplicacaoInput(BaseModel):\n",
    "    x: int = Field(description=\"Primeiro número inteiro a ser multiplicado\")\n",
    "    y: int = Field(description=\"Segundo número inteiro a ser multiplicado\")\n",
    "\n",
    "@tool(args_schema=MultiplicacaoInput)\n",
    "def multiplicar(x: int, y: int) -> int:\n",
    "    \"\"\"Multiplica dois números inteiros\"\"\"\n",
    "    print(f\"Multiplicando {x} por {y}\")\n",
    "    return x * y\n"
   ]
  },
  {
   "cell_type": "code",
   "execution_count": 13,
   "metadata": {},
   "outputs": [],
   "source": [
    "from langchain.tools import tool\n",
    "import requests\n",
    "\n",
    "@tool\n",
    "def prever_idade(nome: str) -> str:\n",
    "    \"\"\"Prevê a idade média com base em um nome.\"\"\"\n",
    "    try:\n",
    "        resposta = requests.get(f\"https://api.agify.io/?name={nome}\")\n",
    "        if resposta.status_code == 200:\n",
    "            idade = resposta.json().get(\"age\", \"desconhecida\")\n",
    "            return f\"A idade média para o nome {nome} é {idade} anos.\"\n",
    "        else:\n",
    "            return f\"Erro ao consultar idade para {nome}.\"\n",
    "    except Exception as e:\n",
    "        return f\"Erro de conexão: {str(e)}\""
   ]
  },
  {
   "cell_type": "code",
   "execution_count": 28,
   "metadata": {},
   "outputs": [],
   "source": [
    "from langchain.agents import initialize_agent, AgentType\n",
    "\n",
    "tools = [multiplicar, ddg_search, prever_idade]\n",
    "\n",
    "agent = initialize_agent(\n",
    "        tools=tools,\n",
    "        llm=llm,\n",
    "        agent=AgentType.STRUCTURED_CHAT_ZERO_SHOT_REACT_DESCRIPTION,\n",
    "        handle_parsing_errors=True,\n",
    "        verbose=True,\n",
    "    )"
   ]
  },
  {
   "cell_type": "markdown",
   "metadata": {},
   "source": [
    "## Tipos de `AgentType` suportados por `initialize_agent`\n",
    "\n",
    "| AgentType                           | Descrição                                                                                          | Quando usar                                                  |\n",
    "|-------------------------------------|-----------------------------------------------------------------------------------------------------|--------------------------------------------------------------|\n",
    "| `zero-shot-react-description`       | **Mais comum.** O agente escolhe ferramentas com base na descrição, sem exemplos prévios (zero-shot). | Quando quer simplicidade e ferramentas bem descritas         |\n",
    "| `react-docstore`                    | Usa a técnica **ReAct** (Reasoning + Acting) com base em docstore (busca e raciocínio explícito).   | Quando quer transparência no raciocínio + busca em documentos|\n",
    "| `self-ask-with-search`              | Divide perguntas complexas em subperguntas e usa busca para responder.                             | Quando o LLM sozinho não tem contexto e precisa pesquisar    |\n",
    "| `conversational-react-description` | Extende o `zero-shot-react-description` com histórico de conversa.                                 | Quando precisa de contexto de conversas anteriores           |\n",
    "| `chat-zero-shot-react-description` | Versão para LLMs **chat-based** (ex: `gpt-3.5`, `gpt-4`) do `zero-shot-react-description`.           | Quando usa um modelo chat e quer interações mais naturais    |\n",
    "| `structured-chat-zero-shot-react-description` | Usa ferramentas com parâmetros estruturados (via pydantic), com raciocínio passo a passo. | Quando quer melhor controle de input/output das tools        |"
   ]
  },
  {
   "cell_type": "code",
   "execution_count": 26,
   "metadata": {},
   "outputs": [
    {
     "name": "stdout",
     "output_type": "stream",
     "text": [
      "\n",
      "\n",
      "\u001b[1m> Entering new AgentExecutor chain...\u001b[0m\n"
     ]
    },
    {
     "name": "stderr",
     "output_type": "stream",
     "text": [
      "INFO:httpx:HTTP Request: POST https://trainning-grassato-01.openai.azure.com/openai/deployments/gpt-4.1/chat/completions?api-version=2025-01-01-preview \"HTTP/1.1 200 OK\"\n"
     ]
    },
    {
     "name": "stdout",
     "output_type": "stream",
     "text": [
      "\u001b[32;1m\u001b[1;3mAction:\n",
      "```\n",
      "{\n",
      "  \"action\": \"Final Answer\",\n",
      "  \"action_input\": \"O Brasil foi oficialmente descoberto por Pedro Álvares Cabral em 22 de abril de 1500.\"\n",
      "}\n",
      "```\u001b[0m\n",
      "\n",
      "\u001b[1m> Finished chain.\u001b[0m\n"
     ]
    }
   ],
   "source": [
    "#pergunta = \"Qual é a capital da Guiana?\"\n",
    "#pergunta = \"Qual o valor de 9 vezes 10?\"\n",
    "#pergunta = \"Qual a idade para o nome Diego?\"\n",
    "pergunta = \"Quem descobriu o Brasil?\"\n",
    "response = agent.invoke({\n",
    "        \"input\": f\"{pergunta}\"\n",
    "    })"
   ]
  },
  {
   "cell_type": "code",
   "execution_count": 27,
   "metadata": {},
   "outputs": [
    {
     "name": "stdout",
     "output_type": "stream",
     "text": [
      "Saída do agente: O Brasil foi oficialmente descoberto por Pedro Álvares Cabral em 22 de abril de 1500.\n",
      "{'input': 'Quem descobriu o Brasil?', 'output': 'O Brasil foi oficialmente descoberto por Pedro Álvares Cabral em 22 de abril de 1500.'}\n"
     ]
    }
   ],
   "source": [
    "print(\"Saída do agente:\", response['output'])\n",
    "print(response)"
   ]
  },
  {
   "cell_type": "markdown",
   "metadata": {},
   "source": [
    "#### create_tool_calling_agent (Nova API baseada em Runnable)\n",
    "Faz parte da nova arquitetura do LangChain (Runnable, Executor, Agents v2)\n",
    "\n",
    "Mais modular e personalizável\n",
    "\n",
    "Usa o novo paradigma de tool calling via OpenAI function calling ou equivalente\n",
    "\n",
    "Recomendado para novos projetos"
   ]
  },
  {
   "cell_type": "code",
   "execution_count": 30,
   "metadata": {},
   "outputs": [],
   "source": [
    "from langchain.agents import AgentExecutor, create_tool_calling_agent, create_react_agent, tool\n",
    "from langchain_core.prompts import ChatPromptTemplate\n",
    "\n",
    "tools = [multiplicar]\n",
    "\n",
    "prompt = ChatPromptTemplate.from_messages(\n",
    "    [\n",
    "        (\"system\", \"You are a helpful assistant\"),\n",
    "        (\"human\", \"{input}\"),\n",
    "        (\"placeholder\", \"{agent_scratchpad}\"),\n",
    "    ]\n",
    ")\n",
    "agent = create_tool_calling_agent(llm, tools, prompt)\n",
    "\n",
    "agent_executor = AgentExecutor(agent=agent, tools=tools, verbose=True)"
   ]
  },
  {
   "cell_type": "code",
   "execution_count": 31,
   "metadata": {},
   "outputs": [
    {
     "name": "stdout",
     "output_type": "stream",
     "text": [
      "\n",
      "\n",
      "\u001b[1m> Entering new AgentExecutor chain...\u001b[0m\n"
     ]
    },
    {
     "name": "stderr",
     "output_type": "stream",
     "text": [
      "INFO:httpx:HTTP Request: POST https://trainning-grassato-01.openai.azure.com/openai/deployments/gpt-4.1/chat/completions?api-version=2025-01-01-preview \"HTTP/1.1 200 OK\"\n"
     ]
    },
    {
     "name": "stdout",
     "output_type": "stream",
     "text": [
      "\u001b[32;1m\u001b[1;3m\n",
      "Invoking: `multiplicar` with `{'x': 9, 'y': 10}`\n",
      "\n",
      "\n",
      "\u001b[0mMultiplicando 9 por 10\n",
      "\u001b[36;1m\u001b[1;3m90\u001b[0m"
     ]
    },
    {
     "name": "stderr",
     "output_type": "stream",
     "text": [
      "INFO:httpx:HTTP Request: POST https://trainning-grassato-01.openai.azure.com/openai/deployments/gpt-4.1/chat/completions?api-version=2025-01-01-preview \"HTTP/1.1 200 OK\"\n"
     ]
    },
    {
     "name": "stdout",
     "output_type": "stream",
     "text": [
      "\u001b[32;1m\u001b[1;3mO valor de 9 vezes 10 é 90.\u001b[0m\n",
      "\n",
      "\u001b[1m> Finished chain.\u001b[0m\n",
      "Saída do agente: O valor de 9 vezes 10 é 90.\n"
     ]
    }
   ],
   "source": [
    "response = agent_executor.invoke({\"input\": \"Qual o valor de 9 vezes 10?\"})\n",
    "print(\"Saída do agente:\", response['output'])\n",
    " "
   ]
  },
  {
   "cell_type": "code",
   "execution_count": 32,
   "metadata": {},
   "outputs": [],
   "source": [
    "from langchain.agents import AgentExecutor, create_tool_calling_agent, create_react_agent, tool\n",
    "from langchain_core.prompts import ChatPromptTemplate\n",
    "tools = [ ddg_search, prever_idade]\n",
    "\n",
    "# Define the prompt template\n",
    "template = '''Answer the following questions as best you can. You have access to the following tools:\n",
    "\n",
    "{tools}\n",
    "\n",
    "Use the following format:\n",
    "\n",
    "Question: the input question you must answer\n",
    "Thought: you should always think about what to do\n",
    "Action: the action to take, should be one of [{tool_names}]\n",
    "Action Input: the input to the action\n",
    "Thought: I now know the final answer\n",
    "Final Answer: the final answer to the original input question\n",
    "\n",
    "Begin!\n",
    "\n",
    "Question: {input}\n",
    "Thought:{agent_scratchpad}'''\n",
    "\n",
    "prompt = PromptTemplate(input_variables=[\"input\", \"chat_history\", \"agent_scratchpad\"], template=template)\n",
    " \n",
    "agent = create_react_agent(llm=llm, tools=tools, prompt=prompt)\n",
    "\n"
   ]
  },
  {
   "cell_type": "code",
   "execution_count": 33,
   "metadata": {},
   "outputs": [
    {
     "name": "stdout",
     "output_type": "stream",
     "text": [
      "\n",
      "\n",
      "\u001b[1m> Entering new AgentExecutor chain...\u001b[0m\n"
     ]
    },
    {
     "name": "stderr",
     "output_type": "stream",
     "text": [
      "INFO:httpx:HTTP Request: POST https://trainning-grassato-01.openai.azure.com/openai/deployments/gpt-4.1/chat/completions?api-version=2025-01-01-preview \"HTTP/1.1 200 OK\"\n"
     ]
    },
    {
     "name": "stdout",
     "output_type": "stream",
     "text": [
      "\u001b[32;1m\u001b[1;3mParsing LLM output produced both a final answer and a parse-able action:: Thought: Para responder essa pergunta, devo usar a ferramenta que prevê a idade média baseada no nome informado.\n",
      "Action: prever_idade\n",
      "Action Input: Rafael\n",
      "Thought: I now know the final answer\n",
      "Final Answer: A idade média para o nome Rafael é aproximadamente 29 anos.\n",
      "For troubleshooting, visit: https://python.langchain.com/docs/troubleshooting/errors/OUTPUT_PARSING_FAILURE \u001b[0mInvalid or incomplete response"
     ]
    },
    {
     "name": "stderr",
     "output_type": "stream",
     "text": [
      "INFO:httpx:HTTP Request: POST https://trainning-grassato-01.openai.azure.com/openai/deployments/gpt-4.1/chat/completions?api-version=2025-01-01-preview \"HTTP/1.1 200 OK\"\n"
     ]
    },
    {
     "name": "stdout",
     "output_type": "stream",
     "text": [
      "\u001b[32;1m\u001b[1;3mParsing LLM output produced both a final answer and a parse-able action:: Action: prever_idade\n",
      "Action Input: Rafael\n",
      "Thought: I now know the final answer\n",
      "Final Answer: A idade média para o nome Rafael é aproximadamente 29 anos.\n",
      "For troubleshooting, visit: https://python.langchain.com/docs/troubleshooting/errors/OUTPUT_PARSING_FAILURE \u001b[0mInvalid or incomplete response"
     ]
    },
    {
     "name": "stderr",
     "output_type": "stream",
     "text": [
      "INFO:httpx:HTTP Request: POST https://trainning-grassato-01.openai.azure.com/openai/deployments/gpt-4.1/chat/completions?api-version=2025-01-01-preview \"HTTP/1.1 200 OK\"\n"
     ]
    },
    {
     "name": "stdout",
     "output_type": "stream",
     "text": [
      "\u001b[32;1m\u001b[1;3mQuestion: Qual a idade para o nome Rafael?\n",
      "Thought: Para responder essa pergunta, devo usar a ferramenta que prevê a idade média baseada no nome informado.\n",
      "Action: prever_idade\n",
      "Action Input: Rafael\u001b[0m\u001b[33;1m\u001b[1;3mA idade média para o nome Rafael é 63 anos.\u001b[0m"
     ]
    },
    {
     "name": "stderr",
     "output_type": "stream",
     "text": [
      "INFO:httpx:HTTP Request: POST https://trainning-grassato-01.openai.azure.com/openai/deployments/gpt-4.1/chat/completions?api-version=2025-01-01-preview \"HTTP/1.1 200 OK\"\n"
     ]
    },
    {
     "name": "stdout",
     "output_type": "stream",
     "text": [
      "\u001b[32;1m\u001b[1;3mFinal Answer: A idade média para o nome Rafael é 63 anos.\u001b[0m\n",
      "\n",
      "\u001b[1m> Finished chain.\u001b[0m\n",
      "Saída do agente: A idade média para o nome Rafael é 63 anos.\n"
     ]
    }
   ],
   "source": [
    "agent_executor = AgentExecutor(agent=agent, tools=tools, verbose=True,handle_parsing_errors=True)\n",
    "\n",
    "pergunta = \"Qual é a capital da Guiana?\"\n",
    "pergunta = \"Qual a idade para o nome Diego?\"\n",
    "pergunta = \"Qual a idade para o nome Rafael?\"\n",
    "response = agent_executor.invoke({\"input\": pergunta})\n",
    "\n",
    "print(\"Saída do agente:\", response['output'])\n",
    " "
   ]
  }
 ],
 "metadata": {
  "kernelspec": {
   "display_name": "Python (langchain)",
   "language": "python",
   "name": "langchain"
  },
  "language_info": {
   "codemirror_mode": {
    "name": "ipython",
    "version": 3
   },
   "file_extension": ".py",
   "mimetype": "text/x-python",
   "name": "python",
   "nbconvert_exporter": "python",
   "pygments_lexer": "ipython3",
   "version": "3.12.3"
  },
  "orig_nbformat": 4
 },
 "nbformat": 4,
 "nbformat_minor": 2
}
