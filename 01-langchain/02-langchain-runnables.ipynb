{
 "cells": [
  {
   "cell_type": "markdown",
   "metadata": {},
   "source": [
    "### Runnables:\n",
    "\n",
    "#### RunnableSequence\n",
    "\n",
    "- Serve para invocar uma cadeia sequencia onde a saída de um componente serve de entrada para o próximo componente.\n",
    "- **RunnableSequence** é o operador de composição mais importante no LangChain, pois é usado em praticamente todas as cadeias.\n",
    "-  Um RunnableSequence pode ser instanciado diretamente ou, mais comumente, usando o operador | , onde os operandos esquerdo ou direito (ou ambos) devem ser um componente com base Runnable."
   ]
  },
  {
   "cell_type": "code",
   "execution_count": 1,
   "metadata": {},
   "outputs": [],
   "source": [
    "%run ../helpers/00-llm.ipynb"
   ]
  },
  {
   "cell_type": "code",
   "execution_count": 2,
   "metadata": {},
   "outputs": [
    {
     "name": "stderr",
     "output_type": "stream",
     "text": [
      "INFO:helpers.llm:Using AzureOpenAI.\n"
     ]
    }
   ],
   "source": [
    "\n",
    "# Importa conectando com o cliente OpenAI\n",
    "from helpers.llm import initialize_llm, logger, pretty_print\n",
    "\n",
    "llm, _, _ = initialize_llm()"
   ]
  },
  {
   "cell_type": "markdown",
   "metadata": {},
   "source": [
    "#### RunnableLambda\n",
    "\n",
    "- RunnableLambda converte um python `callable` (pode-se entender aqui, a principio, como qualquer 'função' python) em um Runnable.\n",
    "- Esse executável envolve o `callable` para que você possa utilizar ele em uma sequencia de componentes de LangChain\n",
    "\n",
    "Exemplo:\n",
    "\n",
    "Imagine que eu quero usar na minha Chain a seguinte função personalizada: `add_one`. Ela no caso não seque os padrões do protocolo `runnable`, ou seja, precisamos transformar ela em um executável langchain. Dessa forma encapsulamos nossa função em um `RunnableLambda`. Em teoria estamos transformando nossa função criada em uma função do estilo `lambda` do python.\n"
   ]
  },
  {
   "cell_type": "code",
   "execution_count": 5,
   "metadata": {},
   "outputs": [
    {
     "name": "stdout",
     "output_type": "stream",
     "text": [
      "2\n"
     ]
    }
   ],
   "source": [
    "from langchain_core.runnables import RunnableLambda\n",
    "\n",
    "# Função customizada\n",
    "def adicionar(x: int) -> int:\n",
    "    return x + 1\n",
    "\n",
    "runnable = RunnableLambda(adicionar) # agora eu implementei os protocolos padrões do langchain, exemplo o invoke.\n",
    "\n",
    "resposta = runnable.invoke(1) # returns 2\n",
    "\n",
    "print(resposta)"
   ]
  },
  {
   "cell_type": "markdown",
   "metadata": {},
   "source": [
    "#### RunnableSequence"
   ]
  },
  {
   "cell_type": "code",
   "execution_count": 9,
   "metadata": {},
   "outputs": [
    {
     "name": "stdout",
     "output_type": "stream",
     "text": [
      "4\n"
     ]
    }
   ],
   "source": [
    "# Veja o que é o RunnableLambda abaixo.\n",
    "from langchain_core.runnables import RunnableLambda,RunnableSequence\n",
    "\n",
    "def somar(x: int) -> int:\n",
    "    return x + 1\n",
    "\n",
    "def multiplicar(x: int) -> int:\n",
    "    return x * 2\n",
    "\n",
    "runnable_1 = RunnableLambda(somar)\n",
    "runnable_2 = RunnableLambda(multiplicar)\n",
    "\n",
    "\n",
    "sequence = runnable_1 | runnable_2\n",
    "# Or equivalently:\n",
    "#sequence = RunnableSequence(first=runnable_1, last=runnable_2)\n",
    "resposta = sequence.invoke(1)\n",
    "print(resposta)"
   ]
  },
  {
   "cell_type": "markdown",
   "metadata": {},
   "source": [
    "#### RunnableParallel\n",
    "\n",
    "- Serve para executar componentes (ou operações) de forma paralela, quando ambos recebem o mesmo tipo de entrada. \n",
    "- Normalmente é representado por um dicionário usando chaves \"{ ... }\", desde que não seja inicio de Chain, neste caso precisamos declarar usando `RunnableParallel` literalmente ao invés de usar dicionários ."
   ]
  },
  {
   "cell_type": "code",
   "execution_count": null,
   "metadata": {},
   "outputs": [
    {
     "name": "stdout",
     "output_type": "stream",
     "text": [
      "{'multiplicar': 6, 'dividir': 1.5}\n"
     ]
    }
   ],
   "source": [
    "from langchain_core.runnables import RunnableLambda,RunnableParallel\n",
    "\n",
    "def dividir(x: int) -> int:\n",
    "    return x / 2\n",
    "\n",
    "runnable_1 = RunnableLambda(somar)\n",
    "runnable_2 = RunnableLambda(multiplicar)\n",
    "runnable_3 = RunnableLambda(dividir)\n",
    "\n",
    "# sequence = runnable_1 | {  # o dicionário aqui é entendido como 'RunnableParallel'\n",
    "#     \"multiplicar\": runnable_2,\n",
    "#     \"dividir\": runnable_3,\n",
    "# }\n",
    "# Ou usando o equivalente:\n",
    "# sequence = runnable_1 | RunnableParallel(\n",
    "#     {\"multiplicar\": runnable_2, \"dividir\": runnable_3}\n",
    "# )\n",
    "# Ou também o equivalente:\n",
    "sequence = runnable_1 | RunnableParallel(\n",
    "    multiplicar=runnable_2,\n",
    "    dividir=runnable_3,\n",
    ")\n",
    "\n",
    "resposta = sequence.invoke(2)\n",
    "print(resposta)"
   ]
  },
  {
   "cell_type": "markdown",
   "metadata": {},
   "source": [
    "#### RunnablePassthrough\n",
    "\n",
    "- Executável para passar entradas inalteradas ou com chaves adicionais.\n",
    "- Ao compor cadeias com várias etapas, às vezes você vai querer passar dados de etapas anteriores inalterados para uso como entrada para uma etapa posterior. A classe  `RunnablePassthrough` permite que você faça exatamente isso, e é tipicamente usada em conjunto com um `RunnableParallel` para passar dados para uma etapa posterior em suas cadeias construídas.\n",
    "\n",
    "Exemplo: Sem transformar a entrada. \n"
   ]
  },
  {
   "cell_type": "code",
   "execution_count": 11,
   "metadata": {},
   "outputs": [
    {
     "name": "stdout",
     "output_type": "stream",
     "text": [
      "Olá\n"
     ]
    }
   ],
   "source": [
    "from langchain_core.runnables import RunnablePassthrough\n",
    "\n",
    "chain = RunnablePassthrough() | RunnablePassthrough() | RunnablePassthrough ()\n",
    "\n",
    "# Independente de quantas vezes você \"passar o resultado para frente\", a entrada não é alterada.\n",
    "\n",
    "resposta = chain.invoke(\"Olá\")\n",
    "\n",
    "print(resposta) # retorna Olá"
   ]
  },
  {
   "cell_type": "markdown",
   "metadata": {},
   "source": [
    "Exemplo: Transformando a entrada.\n"
   ]
  },
  {
   "cell_type": "code",
   "execution_count": 12,
   "metadata": {},
   "outputs": [
    {
     "name": "stdout",
     "output_type": "stream",
     "text": [
      "OLÁ\n"
     ]
    }
   ],
   "source": [
    "from langchain_core.runnables import RunnablePassthrough\n",
    "\n",
    "def entrada_para_letras_maiusculas(entrada: str):\n",
    "\tsaida = entrada.upper()\n",
    "\treturn saida\n",
    "\n",
    "chain = RunnablePassthrough() | RunnableLambda(entrada_para_letras_maiusculas) | RunnablePassthrough ()\n",
    "\n",
    "# Neste caso vamos receber a entrada do usuário, passar para a função 'entrada_para_letras_maiusculas', transformar olá -> OLÁ e passar para frente.\n",
    "\n",
    "resposta = chain.invoke(\"olá\")\n",
    "\n",
    "print(resposta) # retorna OLÁ"
   ]
  },
  {
   "cell_type": "markdown",
   "metadata": {},
   "source": [
    "#### Operador Assign\n",
    "- Normalmente é usado com a combinação `RunnablePassthrough.assign()` para que você possa criar uma saída em dicionário que será usada como entrada ao próximo componente com tal que você tenha a entrada inalterada e uma outra chave com a entrada transformada.\n",
    "\n",
    "Exemplo:"
   ]
  },
  {
   "cell_type": "code",
   "execution_count": 13,
   "metadata": {},
   "outputs": [
    {
     "name": "stdout",
     "output_type": "stream",
     "text": [
      "{'num': 1, 'multiplica_3': 3}\n"
     ]
    }
   ],
   "source": [
    "# https://python.langchain.com/docs/how_to/assign/\n",
    "\n",
    "from langchain_core.runnables import RunnableParallel, RunnablePassthrough\n",
    "\n",
    "runnable = RunnableParallel(\n",
    "    extra=RunnablePassthrough.assign(mult=lambda x: x[\"num\"] * 3),\n",
    "    modified=lambda x: x[\"num\"] + 1,\n",
    ")\n",
    "\n",
    "runnable = RunnablePassthrough() | RunnablePassthrough.assign(multiplica_3=lambda x: x[\"num\"] * 3)\n",
    "\n",
    "resposta = runnable.invoke({\"num\": 1})\n",
    "\n",
    "print(resposta) # Saida {\"num\": 1, \"multiplica_3\": 3}\n"
   ]
  },
  {
   "cell_type": "markdown",
   "metadata": {},
   "source": [
    "### Desafio com Runnables:\n",
    "\n",
    "Processo:\n",
    "\n",
    "1) Receber a entrada do tipo {\"input\": \"SRP — Princípio da Responsabilidade Única.\"}  e passar para frente (testar uso do RunnablePassthrough)\n",
    "\n",
    "2) Quando eu receber a entrada de (1) eu gostaria de criar um dicionário mantendo a entrada de (1) intacta, mas criando \n",
    "uma chave nova (\"num_caract\") tal que receba a entrada de (1) e conte o total de caracteres.\n",
    "\n",
    "3) Usando a saída de (2) quero paralelizar a entrada em dois processos:\n",
    "    1) primeiro, pegando a entrada textual e adicionando a frase \" É um dos grandes principios do SOLID!\" na chave chamada \"transformar_entrada\"\n",
    "    2) segundo não farei nada, apenas passarei para frente a entrada sem qualquer alteração na chave \"passa_para_frente\".\n",
    "\n",
    "4) Por fim, vou passar para frente a combinação do processo paralelo e imprimir o resultado."
   ]
  }
 ],
 "metadata": {
  "kernelspec": {
   "display_name": "Python (langchain)",
   "language": "python",
   "name": "grassato"
  },
  "language_info": {
   "codemirror_mode": {
    "name": "ipython",
    "version": 3
   },
   "file_extension": ".py",
   "mimetype": "text/x-python",
   "name": "python",
   "nbconvert_exporter": "python",
   "pygments_lexer": "ipython3",
   "version": "3.12.3"
  },
  "orig_nbformat": 4
 },
 "nbformat": 4,
 "nbformat_minor": 2
}
