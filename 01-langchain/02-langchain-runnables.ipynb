{
 "cells": [
  {
   "cell_type": "markdown",
   "metadata": {},
   "source": [
    "### 🧩 O que são Runnables no LangChain?\n",
    "\n",
    "No LangChain, Runnables são componentes reutilizáveis e encadeáveis que representam qualquer unidade executável de lógica — como um modelo, uma ferramenta, uma cadeia (chain) ou até mesmo uma função Python.\n",
    "\n",
    "Eles fazem parte do novo sistema modular do LangChain, que permite compor fluxos complexos de forma simples e declarativa.\n",
    "\n",
    "\n",
    "#### ✅ Para que servem?\n",
    "\n",
    "Os Runnables permitem:\n",
    "\n",
    "🔁 Encadear passos (chains) como entrada → processamento → saída.\n",
    "\n",
    "🧪 Reutilizar lógica em diferentes contextos (como APIs, scripts ou agentes).\n",
    "\n",
    "🔧 Compor pipelines com modelos, prompts, transformações, validações, etc.\n",
    "\n",
    "⚡ Executar de forma assíncrona, paralela ou em lote (stream, batch, invoke).\n",
    "\n"
   ]
  },
  {
   "cell_type": "code",
   "execution_count": null,
   "metadata": {},
   "outputs": [],
   "source": [
    "from langchain_core.runnables import RunnableLambda\n",
    "\n",
    "# Cria um Runnable simples que transforma o texto para maiúsculas\n",
    "uppercase = RunnableLambda(lambda x: x.upper())\n",
    "\n",
    "result = uppercase.invoke(\"exemplo de texto\")\n",
    "print(result)  # Output: EXEMPLO DE TEXTO"
   ]
  },
  {
   "cell_type": "markdown",
   "metadata": {},
   "source": [
    "#### 🚀 Métodos comuns dos Runnables\n",
    "\n",
    "| Método     | Função                                              | \n",
    "| ---------- | --------------------------------------------------- | \n",
    "| `invoke()` | Executa uma chamada única                           | \n",
    "| `batch()`  | Executa em lote                                     | \n",
    "| `stream()` | Executa e retorna resultados parciais em tempo real | \n"
   ]
  },
  {
   "cell_type": "markdown",
   "metadata": {},
   "source": [
    "#### 🔗 Compondo Runnables\n",
    "Você pode combinar vários Runnables em pipelines:"
   ]
  },
  {
   "cell_type": "code",
   "execution_count": null,
   "metadata": {},
   "outputs": [],
   "source": [
    "%run ../helpers/00-llm.ipynb"
   ]
  },
  {
   "cell_type": "code",
   "execution_count": null,
   "metadata": {},
   "outputs": [],
   "source": [
    "\n",
    "# Importa conectando com o cliente OpenAI\n",
    "from helpers.llm import initialize_llm, logger, pretty_print\n",
    "\n",
    "llm, _, _ = initialize_llm()"
   ]
  },
  {
   "cell_type": "code",
   "execution_count": null,
   "metadata": {},
   "outputs": [],
   "source": [
    "from langchain.prompts import PromptTemplate\n",
    "\n",
    "prompt = PromptTemplate.from_template(\"Resuma o seguinte texto: {texto}\")\n",
    "\n",
    "# Encadeando os componentes\n",
    "chain = prompt | llm\n",
    "\n",
    "# Executando\n",
    "response = chain.invoke({\"texto\": \"LangChain é uma biblioteca para criar agentes com LLMs.\"})\n",
    "\n",
    "pretty_print(response)"
   ]
  },
  {
   "cell_type": "markdown",
   "metadata": {},
   "source": [
    "#### ✅ RunnableLambda\n",
    "\n",
    "- RunnableLambda converte um python `callable` (pode-se entender aqui, a principio, como qualquer 'função' python) em um Runnable.\n",
    "- Esse executável envolve o `callable` para que você possa utilizar ele em uma sequencia de componentes de LangChain\n",
    "- Ele permite que funções customizadas participem de pipelines, agentes, LangGraph, e outras composições com LLMs."
   ]
  },
  {
   "cell_type": "code",
   "execution_count": null,
   "metadata": {},
   "outputs": [
    {
     "name": "stdout",
     "output_type": "stream",
     "text": [
      "langchain é poderoso\n",
      "Langchain é poderoso   \n"
     ]
    }
   ],
   "source": [
    "from langchain_core.runnables import RunnableLambda\n",
    "\n",
    "# Etapas\n",
    "strip_text = RunnableLambda(lambda x: x.strip())\n",
    "capitalize_text = RunnableLambda(lambda x: x.capitalize())\n",
    "\n",
    "print(strip_text.invoke(\"   langchain é poderoso   \"))\n",
    "print(capitalize_text.invoke(\"langchain é poderoso   \"))\n",
    "\n",
    "# Pipeline\n",
    "#pipeline = strip_text | capitalize_text\n",
    "\n",
    "#result = pipeline.invoke(\"   langchain é poderoso   \")\n",
    "#print(result)  # Saída: Langchain é poderoso"
   ]
  },
  {
   "cell_type": "markdown",
   "metadata": {},
   "source": [
    "##### 🧪 Exemplo com entrada em dicionário\n",
    "\n",
    "Você também pode usar funções que processam dicionários — útil para quando seu fluxo carrega JSONs ou objetos estruturados:"
   ]
  },
  {
   "cell_type": "code",
   "execution_count": 11,
   "metadata": {},
   "outputs": [
    {
     "name": "stdout",
     "output_type": "stream",
     "text": [
      "Ana tem 30 anos.\n"
     ]
    }
   ],
   "source": [
    "format_input = RunnableLambda(lambda x: f\"{x['nome']} tem {x['idade']} anos.\")\n",
    "\n",
    "result = format_input.invoke({\"nome\": \"Ana\", \"idade\": 30})\n",
    "print(result)  # Saída: Ana tem 30 anos."
   ]
  },
  {
   "cell_type": "markdown",
   "metadata": {},
   "source": [
    "#### RunnableSequence"
   ]
  },
  {
   "cell_type": "code",
   "execution_count": null,
   "metadata": {},
   "outputs": [],
   "source": [
    "# Veja o que é o RunnableLambda abaixo.\n",
    "from langchain_core.runnables import RunnableLambda,RunnableSequence\n",
    "\n",
    "# Função customizada\n",
    "def adicionar(x: int) -> int:\n",
    "    return x + 1\n",
    "\n",
    "\n",
    "def somar(x: int) -> int:\n",
    "    return x + 1\n",
    "\n",
    "def multiplicar(x: int) -> int:\n",
    "    return x * 2\n",
    "\n",
    "runnable_1 = RunnableLambda(somar)\n",
    "runnable_2 = RunnableLambda(multiplicar)\n",
    "\n",
    "\n",
    "sequence = runnable_1 | runnable_2\n",
    "# Or equivalently:\n",
    "#sequence = RunnableSequence(first=runnable_1, last=runnable_2)\n",
    "resposta = sequence.invoke(1)\n",
    "print(resposta)"
   ]
  },
  {
   "cell_type": "markdown",
   "metadata": {},
   "source": [
    "#### RunnableParallel\n",
    "\n",
    "- Serve para executar componentes (ou operações) de forma paralela, quando ambos recebem o mesmo tipo de entrada. \n",
    "- Normalmente é representado por um dicionário usando chaves \"{ ... }\", desde que não seja inicio de Chain, neste caso precisamos declarar usando `RunnableParallel` literalmente ao invés de usar dicionários ."
   ]
  },
  {
   "cell_type": "code",
   "execution_count": null,
   "metadata": {},
   "outputs": [],
   "source": [
    "from langchain_core.runnables import RunnableLambda,RunnableParallel\n",
    "\n",
    "def dividir(x: int) -> int:\n",
    "    return x / 2\n",
    "\n",
    "runnable_1 = RunnableLambda(somar)\n",
    "runnable_2 = RunnableLambda(multiplicar)\n",
    "runnable_3 = RunnableLambda(dividir)\n",
    "\n",
    "# sequence = runnable_1 | {  # o dicionário aqui é entendido como 'RunnableParallel'\n",
    "#     \"multiplicar\": runnable_2,\n",
    "#     \"dividir\": runnable_3,\n",
    "# }\n",
    "# Ou usando o equivalente:\n",
    "# sequence = runnable_1 | RunnableParallel(\n",
    "#     {\"multiplicar\": runnable_2, \"dividir\": runnable_3}\n",
    "# )\n",
    "# Ou também o equivalente:\n",
    "sequence = runnable_1 | RunnableParallel(\n",
    "    multiplicar=runnable_2,\n",
    "    dividir=runnable_3,\n",
    ")\n",
    "\n",
    "resposta = sequence.invoke(2)\n",
    "print(resposta)"
   ]
  },
  {
   "cell_type": "markdown",
   "metadata": {},
   "source": [
    "#### RunnablePassthrough\n",
    "\n",
    "- Executável para passar entradas inalteradas ou com chaves adicionais.\n",
    "- Ao compor cadeias com várias etapas, às vezes você vai querer passar dados de etapas anteriores inalterados para uso como entrada para uma etapa posterior. A classe  `RunnablePassthrough` permite que você faça exatamente isso, e é tipicamente usada em conjunto com um `RunnableParallel` para passar dados para uma etapa posterior em suas cadeias construídas.\n",
    "\n",
    "Exemplo 1: Sem transformar a entrada. \n"
   ]
  },
  {
   "cell_type": "code",
   "execution_count": null,
   "metadata": {},
   "outputs": [],
   "source": [
    "from langchain_core.runnables import RunnablePassthrough\n",
    "\n",
    "chain = RunnablePassthrough() | RunnablePassthrough() | RunnablePassthrough ()\n",
    "\n",
    "# Independente de quantas vezes você \"passar o resultado para frente\", a entrada não é alterada.\n",
    "\n",
    "resposta = chain.invoke(\"Olá\")\n",
    "\n",
    "print(resposta) # retorna Olá"
   ]
  },
  {
   "cell_type": "markdown",
   "metadata": {},
   "source": [
    "Exemplo 2: Transformando a entrada.\n"
   ]
  },
  {
   "cell_type": "code",
   "execution_count": null,
   "metadata": {},
   "outputs": [],
   "source": [
    "from langchain_core.runnables import RunnablePassthrough\n",
    "\n",
    "def entrada_para_letras_maiusculas(entrada: str):\n",
    "\tsaida = entrada.upper()\n",
    "\treturn saida\n",
    "\n",
    "chain = RunnablePassthrough() | RunnableLambda(entrada_para_letras_maiusculas) | RunnablePassthrough ()\n",
    "\n",
    "# Neste caso vamos receber a entrada do usuário, passar para a função 'entrada_para_letras_maiusculas', transformar olá -> OLÁ e passar para frente.\n",
    "\n",
    "resposta = chain.invoke(\"olá\")\n",
    "\n",
    "print(resposta) # retorna OLÁ"
   ]
  },
  {
   "cell_type": "markdown",
   "metadata": {},
   "source": [
    "#### Operador Assign\n",
    "- Normalmente é usado com a combinação `RunnablePassthrough.assign()` para que você possa criar uma saída em dicionário que será usada como entrada ao próximo componente com tal que você tenha a entrada inalterada e uma outra chave com a entrada transformada.\n",
    "\n",
    "Exemplo:"
   ]
  },
  {
   "cell_type": "code",
   "execution_count": null,
   "metadata": {},
   "outputs": [
    {
     "name": "stdout",
     "output_type": "stream",
     "text": [
      "{'num': 1, 'multiplica_3': 3}\n"
     ]
    }
   ],
   "source": [
    "# https://python.langchain.com/docs/how_to/assign/\n",
    "\n",
    "from langchain_core.runnables import RunnableParallel, RunnablePassthrough\n",
    "\n",
    "runnable = RunnablePassthrough() | RunnablePassthrough.assign(multiplica_3=lambda x: x[\"num\"] * 3)\n",
    "\n",
    "resposta = runnable.invoke({\"num\": 1})\n",
    "\n",
    "print(resposta) # Saida {\"num\": 1, \"multiplica_3\": 3}\n"
   ]
  },
  {
   "cell_type": "markdown",
   "metadata": {},
   "source": [
    "### Desafio com Runnables:\n",
    "\n",
    "Processo:\n",
    "\n",
    "1) Receber a entrada do tipo {\"input\": \"SRP — Princípio da Responsabilidade Única.\"}  e passar para frente (testar uso do RunnablePassthrough)\n",
    "\n",
    "2) Quando eu receber a entrada de (1) eu gostaria de criar um dicionário mantendo a entrada de (1) intacta, mas criando \n",
    "uma chave nova (\"num_caract\") tal que receba a entrada de (1) e conte o total de caracteres.\n",
    "\n",
    "3) Usando a saída de (2) quero paralelizar a entrada em dois processos:\n",
    "    1) primeiro, pegando a entrada textual e adicionando a frase \" É um dos grandes principios do SOLID!\" na chave chamada \"transformar_entrada\"\n",
    "    2) segundo não farei nada, apenas passarei para frente a entrada sem qualquer alteração na chave \"passa_para_frente\".\n",
    "\n",
    "4) Por fim, vou passar para frente a combinação do processo paralelo e imprimir o resultado."
   ]
  },
  {
   "cell_type": "code",
   "execution_count": null,
   "metadata": {},
   "outputs": [
    {
     "name": "stdout",
     "output_type": "stream",
     "text": [
      "------ RESPOSTA DO DESAFIO -----------------------\n",
      "{'transformar_entrada': 'SRP — Princípio da Responsabilidade Única. É um dos grandes principios do SOLID!', 'passa_para_frente': {'input': 'SRP — Princípio da Responsabilidade Única.', 'num_caract': 42}}\n",
      "SRP — Princípio da Responsabilidade Única. É um dos grandes principios do SOLID!\n",
      "{'input': 'SRP — Princípio da Responsabilidade Única.', 'num_caract': 42}\n",
      "--------------------------------------------------\n"
     ]
    }
   ],
   "source": [
    "from langchain_core.runnables import RunnablePassthrough, RunnableLambda, RunnableParallel\n",
    "\n",
    "# Parte 1 - Recebe a entrada e passa para frente\n",
    "parte_1_runnable = RunnablePassthrough()\n",
    " \n",
    "# Parte 4 - RunnablePassthrough é um runnable que simplesmente passa a entrada para frente sem modificá-la.\n",
    "parte_4_runnable = RunnablePassthrough()\n",
    "\n",
    "# Juntando tudo:\n",
    "chain = parte_1_runnable | parte_2_runnable | parte_3_runnable | parte_4_runnable\n",
    "\n",
    "## Invocar:\n",
    "resposta = chain.invoke({\"input\": \"SRP — Princípio da Responsabilidade Única.\"})\n",
    "\n",
    "print(\"------ RESPOSTA DO DESAFIO -----------------------\")\n",
    "print(resposta)\n",
    "print(resposta[\"transformar_entrada\"])\n",
    "print(resposta[\"passa_para_frente\"]) \n",
    "print(\"--------------------------------------------------\")"
   ]
  }
 ],
 "metadata": {
  "kernelspec": {
   "display_name": "Python (grassato)",
   "language": "python",
   "name": "grassato"
  },
  "language_info": {
   "codemirror_mode": {
    "name": "ipython",
    "version": 3
   },
   "file_extension": ".py",
   "mimetype": "text/x-python",
   "name": "python",
   "nbconvert_exporter": "python",
   "pygments_lexer": "ipython3",
   "version": "3.12.3"
  },
  "orig_nbformat": 4
 },
 "nbformat": 4,
 "nbformat_minor": 2
}
