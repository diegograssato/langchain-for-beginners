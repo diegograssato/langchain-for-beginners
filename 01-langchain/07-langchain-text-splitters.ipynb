{
 "cells": [
  {
   "cell_type": "markdown",
   "metadata": {},
   "source": [
    "[Documentação](https://python.langchain.com/docs/how_to/#text-splitters)\n",
    "#### Conceito\n",
    "\n",
    "Divisores de Texto/documentos (Text splitters) é  uma etapa importante de pré-processamento para muitas aplicações. A técnica envolve a divisão de textos grandes em pedaços menores e gerenciáveis. Esse processo oferece vários benefícios, como garantir o processamento consistente de tamanhos variados de documentos, superar as limitações de tamanho de entrada dos modelos e melhorar a qualidade das representações de texto usadas em sistemas de recuperação. Existem várias estratégias para dividir documentos, cada uma com suas próprias vantagens.\n",
    "\n",
    "O que os splitters esperam como entrada? Eles esperam:\n",
    "- Uma lista de documentos `List[Documents]` caso você vá usar a função: `split_documents`.\n",
    "- Um texto caso você vá usar a função `split_text`.\n",
    "\n",
    "Quais parâmetros conhecer?\n",
    "- `chunk_size` - O número de caracteres que você gostaria em seus pedaços. 50, 100, 100.000, etc.\n",
    "- `chunk_overlap` - A quantidade que você gostaria que seus pedaços sequenciais se sobrepusessem. Isso é para tentar evitar cortar uma única parte do contexto em várias partes. Isso criará dados duplicados entre blocos.\n",
    "#### Por que dividir documentos\n",
    "\n",
    "- Para lidar mais facilmente com documentos que não seguem uma linearidade estrutural.\n",
    "- Para superar o limite de contexto de entrada dos modelos de linguagem.\n",
    "- Para melhorar a qualidade da representação do texto em formato de embeddings, melhorando a recuperação.\n",
    "- Otimização de recursos computacionais.\n",
    "\n",
    "#### Tipos:\n",
    "\n",
    "#### Baseado em comprimento:\n",
    "A estratégia mais intuitiva é dividir documentos com base em seu comprimento. Essa abordagem simples, porém eficaz, garante que cada pedaço não exceda um limite de tamanho especificado. Principais benefícios da divisão com base no comprimento:\n",
    "\n",
    "- Implementação simples\n",
    "- Tamanhos de pedaços consistentes\n",
    "- Facilmente adaptável a diferentes requisitos de modelo\n",
    "\n",
    "Tipos de divisão baseada em comprimento:\n",
    "\n",
    "- **Baseado em tokens**.\n",
    "- **Baseado em caracteres**.\n",
    "\n"
   ]
  },
  {
   "cell_type": "markdown",
   "metadata": {},
   "source": [
    "Splitter: `RecursiveCharacterTextSplitter`\n",
    "### Baseado em caractere:\n",
    "O texto é naturalmente organizado em unidades hierárquicas, como parágrafos, frases e palavras. Podemos aproveitar essa estrutura inerente para informar nossa estratégia de divisão, criando uma divisão que mantém o fluxo natural da linguagem, mantém a coerência semântica dentro da divisão e se adapta a vários níveis de granularidade do texto.\n",
    "\n",
    "A lista padrão é `separators = [\"\\n\\n\", \"\\n\", \" \", \"\"]`. Isso tem o efeito de tentar manter todos os parágrafos (e então frases, e então palavras) juntos o máximo possível, já que esses genericamente parecem ser os pedaços de texto semanticamente mais fortes relacionados.\n",
    "\n",
    "Vamos analisar os parâmetros definidos para `RecursiveCharacterTextSplitter`:\n",
    "\n",
    "- `chunk_size`: O tamanho máximo de um pedaço, onde o tamanho é determinado por `length_function`.\n",
    "- `chunk_overlap`: Sobreposição de alvo entre blocos. Blocos sobrepostos ajudam a mitigar a perda de informações quando o contexto é dividido entre blocos.\n",
    "- `length_function`: Função que determina o tamanho do bloco.\n",
    "- `is_separator_regex`: Se a lista de separadores (padrão `[\"\\n\\n\", \"\\n\", \" \", \"\"]`) deve ser interpretada como regex.\n",
    "\n",
    "Splitter: `CharacterTextSplitter`\n",
    "### Baseado em estrutura de documento:\n",
    "Alguns documentos têm uma estrutura inerente, como arquivos HTML, Markdown (MD) ou JSON. Nesses casos, é benéfico dividir o documento com base em sua estrutura, pois ele geralmente agrupa naturalmente textos semanticamente relacionados. Principais benefícios da divisão com base na estrutura:\n",
    "\n",
    "- Preserva a organização lógica do documento\n",
    "- Mantém o contexto dentro de cada bloco\n",
    "- Pode ser mais eficaz para tarefas posteriores, como recuperação ou sumarização\n",
    "\n",
    "Por exemplo, podemos dividir um documento MD em cada nível de título, ou seja, mapeando a divisão a ser realizada pelos hastags (`#` Titulo nível 1, `##` Titulo nível 1, etc.).\n",
    "Tipos:\n",
    "\n",
    "- Markdown: [Documentação](https://python.langchain.com/docs/how_to/markdown_header_metadata_splitter/)\n",
    "- HTML: [Documentação](https://python.langchain.com/docs/how_to/split_html/)\n",
    "- JSON [Documentação](https://python.langchain.com/docs/how_to/recursive_json_splitter/)"
   ]
  },
  {
   "cell_type": "markdown",
   "metadata": {},
   "source": [
    "#### Baseado na semântica das frases:\n",
    "\n",
    "A divisão baseada em semântica realmente considera o _conteúdo_ do texto. Enquanto outras abordagens usam a estrutura do documento ou do texto como proxies para significado semântico, este método analisa diretamente a semântica do texto. Existem várias maneiras de implementar isso, mas conceitualmente a abordagem é dividir o texto quando há mudanças significativas no _significado_ do texto . Como exemplo, podemos usar uma abordagem de janela deslizante para gerar embeddings e comparar os embeddings para encontrar diferenças significativas:\n",
    "\n",
    "- Comece com as primeiras frases e gere uma incorporação.\n",
    "- Passe para o próximo grupo de frases e gere outra incorporação (por exemplo, usando uma abordagem de janela deslizante).\n",
    "- Compare as incorporações para encontrar diferenças significativas, que indicam potenciais \"pontos de ruptura\" entre seções semânticas.\n",
    "\n",
    "Essa técnica ajuda a criar blocos que são semanticamente mais coerentes, melhorando potencialmente a qualidade de tarefas posteriores, como recuperação ou sumarização.\n",
    "\n",
    "Documentação deste divisor: https://python.langchain.com/docs/how_to/semantic-chunker/\n",
    "#### Mais informações:\n",
    "\n",
    "Para outros exemplos, consulte a documentação:\n",
    "[1 - Text Splitters](https://python.langchain.com/docs/concepts/text_splitters/)\n",
    "[2 - Tipos de Splitters](https://python.langchain.com/docs/how_to/#text-splitters)\n",
    "[3 - Exemplo de demonstração dos chunks](https://chunkviz.up.railway.app/)"
   ]
  },
  {
   "cell_type": "markdown",
   "metadata": {},
   "source": [
    "#### Prática:\n",
    "\n",
    "Considere o seguinte texto exemplo como base:\n",
    "\n"
   ]
  },
  {
   "cell_type": "code",
   "execution_count": null,
   "metadata": {},
   "outputs": [],
   "source": [
    " \n",
    "text=\"\"\"A inteligência artificial (IA) é uma área da ciência da computação que tem revolucionado diversas indústrias e aspectos da vida cotidiana. Mas, o que realmente significa \"inteligência artificial\"? Trata-se de sistemas computacionais capazes de realizar tarefas que, anteriormente, só poderiam ser executadas por seres humanos, como reconhecimento de fala, tomada de decisão e aprendizado com dados. Impressionante, não é? Esses sistemas utilizam algoritmos avançados e grandes volumes de dados para identificar padrões, adaptarem-se a novas situações e fornecerem soluções inovadoras.\n",
    "\n",
    "Um dos maiores avanços recentes em IA é o aprendizado profundo (ou deep learning). Essa técnica permite que máquinas realizem tarefas extremamente complexas, como diagnosticar doenças a partir de imagens médicas ou até mesmo compor músicas! Curioso como isso funciona? Redes neurais artificiais – inspiradas no funcionamento do cérebro humano – processam informações em múltiplas camadas, identificando nuances que seriam impossíveis para métodos tradicionais. Como resultado, a IA tem transformado áreas como saúde, finanças e transporte, promovendo eficiência e inovação em escala global.\n",
    "\n",
    "No entanto, a expansão da inteligência artificial também levanta questões importantes. Estamos preparados para lidar com os desafios éticos que a IA traz? Por exemplo: como garantir que algoritmos de IA sejam imparciais e inclusivos? Além disso, há preocupações sobre o impacto no mercado de trabalho – algumas profissões podem ser substituídas por máquinas. Apesar desses desafios, uma coisa é certa: a inteligência artificial já não é mais uma tecnologia do futuro; é uma realidade do presente, moldando o mundo ao nosso redor com potencial ilimitado!\"\"\"\n",
    " "
   ]
  },
  {
   "cell_type": "code",
   "execution_count": null,
   "metadata": {},
   "outputs": [],
   "source": [
    "%run ../helpers/00-llm.ipynb"
   ]
  },
  {
   "cell_type": "markdown",
   "metadata": {},
   "source": [
    "\n",
    "Vamos criar um documento dele como se fosse feito obtido via `document loaders`:"
   ]
  },
  {
   "cell_type": "code",
   "execution_count": null,
   "metadata": {},
   "outputs": [],
   "source": [
    "from langchain_core.documents import Document\n",
    "\n",
    "from helpers.llm import initialize_llm, logger, pretty_print\n",
    "\n",
    "llm, _, embeddings = initialize_llm()\n",
    "\n",
    "\n",
    "texto_original = Document(page_content=text)\n",
    "\n",
    "# Vamos criar agora uma lista de documentos:\n",
    "docs = [texto_original]   \n"
   ]
  },
  {
   "cell_type": "markdown",
   "metadata": {},
   "source": [
    "#### Exemplo de divisão por comprimento de caracteres/tokens:\n",
    "\n",
    "`RecursiveCharacterTextSplitter` => é um divisor recursivo, ou seja, quando ele recebe uma lista de separadores, ele vai aplicando até manter os chunks no tamanho informador pelo usuário em '`chunk_size`'. Para dividir em caracteres a lista de separadores que devemos informar é: `separators=[\"\"]`. Dessa forma, o splitter entende que deve analisar caracteres.\n"
   ]
  },
  {
   "cell_type": "code",
   "execution_count": null,
   "metadata": {},
   "outputs": [],
   "source": [
    "from langchain_text_splitters import RecursiveCharacterTextSplitter  \n",
    "\n",
    "text_splitter = RecursiveCharacterTextSplitter(  \n",
    "    chunk_size=40,  # tamanho dos pedaços  \n",
    "    chunk_overlap=5,  # sobreposição de pedaços  \n",
    "    length_function=len,  # tipo de divisão: por caractere  \n",
    "    separators=[\"\"],  \n",
    ")  \n",
    "texts = text_splitter.split_documents(docs)  \n",
    "i = 0  \n",
    "for pedaco in texts:  \n",
    "    print(\"--\" * 30)  \n",
    "    print(f\"Chunk: {i}\")  \n",
    "    print(\"--\" * 30)  \n",
    "    print(pedaco)  \n",
    "    print(\"--\" * 30)  \n",
    "    i += 1"
   ]
  },
  {
   "cell_type": "markdown",
   "metadata": {},
   "source": [
    "Para dividir por tokens, usar a função `from_tiktoken_encoder`:"
   ]
  },
  {
   "cell_type": "code",
   "execution_count": null,
   "metadata": {},
   "outputs": [],
   "source": [
    "from langchain_text_splitters import RecursiveCharacterTextSplitter  \n",
    "\n",
    "text_splitter = RecursiveCharacterTextSplitter.from_tiktoken_encoder(separators=[\"\"], encoding_name=\"cl100k_base\",chunk_size=100, chunk_overlap=20)  \n",
    "texts = text_splitter.split_documents(docs)  \n",
    "i = 0  \n",
    "for pedaco in texts:  \n",
    "    print(\"--\" * 30)  \n",
    "    print(f\"Chunk: {i}\")  \n",
    "    print(\"--\" * 30)  \n",
    "    print(pedaco)  \n",
    "    print(\"--\" * 30)  \n",
    "    i += 1"
   ]
  },
  {
   "cell_type": "markdown",
   "metadata": {},
   "source": [
    "#### Exemplo de divisão por caracteres configuráveis:\n",
    "\n",
    "`CharacterTextSplitter`=> é um separador que identifica o caractere indicado no parâmetro `separator` e o utiliza para separar os blocos, independente se o chunk ficar grande ou pequeno. Por exemplo, se você solicita ao splitter uma quebra por parágrafos (\\n\\n), ele apenas vai localizar todos os \"\\n\\n\" e criar um bloco (chunk). Tipos de divisões:\n",
    "\n",
    "- `\\n\\n` - divisão por parágrafos\n",
    "- `\\n` - divisão por sentenças\n",
    "- `\" \"` - divisão por palavras\n",
    "- `\"\"` - divisão por caractere"
   ]
  },
  {
   "cell_type": "code",
   "execution_count": null,
   "metadata": {},
   "outputs": [],
   "source": [
    "from langchain_text_splitters import CharacterTextSplitter  \n",
    "  \n",
    "text_splitter = CharacterTextSplitter(  \n",
    "    separator=\"\\n\\n\", # dividir por paragrafos  \n",
    "    chunk_size=1000,  \n",
    "    chunk_overlap=200,  \n",
    "    length_function=len,  \n",
    "    is_separator_regex=False,  \n",
    ")  \n",
    "texts = text_splitter.split_documents(docs)  \n",
    "  \n",
    "i = 0  \n",
    "for pedaco in texts:  \n",
    "    print(\"--\" * 30)  \n",
    "    print(f\"Chunk: {i}\")  \n",
    "    print(\"--\" * 30)  \n",
    "    print(pedaco)  \n",
    "    print(\"--\" * 30)  \n",
    "    i += 1"
   ]
  },
  {
   "cell_type": "markdown",
   "metadata": {},
   "source": [
    "#### Exemplo de divisão de arquivos Markdown\n",
    "\n",
    "Primeiro vamos ler um arquivo MD e colocar numa variável python:"
   ]
  },
  {
   "cell_type": "code",
   "execution_count": null,
   "metadata": {},
   "outputs": [],
   "source": [
    "caminho = r'Ambiente.md'  \n",
    "\n",
    "with open(caminho) as f:  \n",
    "    arquivo = f.read()"
   ]
  },
  {
   "cell_type": "markdown",
   "metadata": {},
   "source": [
    "Para especificar em quais cabeçalhos dividir, especifique `headers_to_split_on`ao instanciar, separador `MarkdownHeaderTextSplitter`:\n"
   ]
  },
  {
   "cell_type": "code",
   "execution_count": null,
   "metadata": {},
   "outputs": [],
   "source": [
    "headers_to_split_on = [  \n",
    "    (\"#\", \"Header 1\"),  \n",
    "    (\"##\", \"Header 2\"),  \n",
    "    (\"###\", \"Header 3\"),  \n",
    "]"
   ]
  },
  {
   "cell_type": "markdown",
   "metadata": {},
   "source": [
    "Agora forneça o mapeamento de divisão acima para o separador e aplique `split_text` uma vez que estamos quebrando um texto:\n"
   ]
  },
  {
   "cell_type": "code",
   "execution_count": null,
   "metadata": {},
   "outputs": [],
   "source": [
    "from langchain_text_splitters import MarkdownHeaderTextSplitter  \n",
    "\n",
    "markdown_splitter = MarkdownHeaderTextSplitter(headers_to_split_on)  \n",
    "resultado_com_split_de_cabecalho = markdown_splitter.split_text(arquivo)\n",
    "\n",
    "print(resultado_com_split_de_cabecalho)"
   ]
  }
 ],
 "metadata": {
  "kernelspec": {
   "display_name": "Python (grassato)",
   "language": "python",
   "name": "grassato"
  },
  "language_info": {
   "codemirror_mode": {
    "name": "ipython",
    "version": 3
   },
   "file_extension": ".py",
   "mimetype": "text/x-python",
   "name": "python",
   "nbconvert_exporter": "python",
   "pygments_lexer": "ipython3",
   "version": "3.12.11"
  },
  "orig_nbformat": 4
 },
 "nbformat": 4,
 "nbformat_minor": 2
}
