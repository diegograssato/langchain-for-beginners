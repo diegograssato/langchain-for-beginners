{
 "cells": [
  {
   "cell_type": "markdown",
   "metadata": {},
   "source": [
    "## Definição:\n",
    "Os carregadores de documentos são componentes do LangChain que facilitam o carregamentos de arquivos/documentos para que eles possam interagir  com outros componentes de LangChain.\n",
    "Eles não são utilizados diretamente dentro das cadeias (chains), mas são peças fundamentais no pré processamento dos dados para que você possa adicionar informações à sua chain (mais especifico nos prompts) ou indexar informações em bancos vetoriais.\n",
    "\n",
    "Os carregadores de documentos são projetados para carregar objetos de documentos. O LangChain tem centenas de integrações com várias fontes de dados para carregar dados de: Slack, Notion, Google Drive, etc. ([link](https://python.langchain.com/docs/integrations/document_loaders/))\n",
    "\n",
    "Cada Document Loader tem seus próprios parâmetros específicos, mas todos eles podem ser invocados da mesma maneira com o método `.load`(método padrão de carregamento) ou `.lazy_load` (usado para trabalhar com grandes conjuntos de dados).\n",
    "[Documentação](https://python.langchain.com/docs/how_to/#document-loaders)"
   ]
  },
  {
   "cell_type": "markdown",
   "metadata": {},
   "source": [
    "### Tipos\n",
    "\n",
    "##### Carregadores de PDF:\n",
    "\n",
    "[link](https://python.langchain.com/docs/how_to/document_loader_pdf/)\n",
    "#### Simples Carregamento de texto:\n",
    "\n",
    "Para fazer a leitura de texto presente em PDFs, podemos usar a biblioteca pypdf.\n",
    " \n"
   ]
  },
  {
   "cell_type": "markdown",
   "metadata": {},
   "source": [
    "- Versão assíncrona:"
   ]
  },
  {
   "cell_type": "code",
   "execution_count": null,
   "metadata": {},
   "outputs": [],
   "source": [
    "from langchain_community.document_loaders import PyPDFLoader  \n",
    "import asyncio  # Import necessário para gerenciar o loop de eventos  \n",
    "  \n",
    "  \n",
    "# Define uma função assíncrona para realizar a tarefa  \n",
    "async def process_pdf():  \n",
    "    loader = PyPDFLoader(r\"data/DENGUE.pdf\")  \n",
    "    pages_asinc = []  \n",
    "  \n",
    "    # Para leitura assíncrona  \n",
    "    async for page in loader.alazy_load():  \n",
    "        pages_asinc.append(page)  \n",
    "  \n",
    "    # Imprime o resultado  \n",
    "    print(pages_asinc)  \n",
    "  \n",
    "  \n",
    "# Executa a função assíncrona  \n",
    "if __name__ == \"__main__\":  \n",
    "    await asyncio.gather(process_pdf())"
   ]
  },
  {
   "cell_type": "markdown",
   "metadata": {},
   "source": [
    "- Versão síncrona:\n"
   ]
  },
  {
   "cell_type": "code",
   "execution_count": null,
   "metadata": {},
   "outputs": [],
   "source": [
    "from langchain_community.document_loaders import PyPDFLoader  \n",
    "  \n",
    "loader = PyPDFLoader(r\"data/DENGUE.pdf\")  \n",
    "pages_sinc = loader.load()  \n",
    "  \n",
    "# Aqui verificaremos que pages_sinc é uma lista de 'Document':  \n",
    "print(\"\\n------ Imprimindo o resultado ------\\n\")  \n",
    "print(pages_sinc)  \n",
    "  \n",
    "print(\"\\n------ Imprimindo o resultado ------\\n\")  \n",
    "\n",
    "pages = []\n",
    "# Acessando os valores carregados:  \n",
    "for elemento in pages_sinc:  \n",
    "    print(\"----- Página Inicio -----\")  \n",
    "    print(f\"Conteúdo: {elemento.page_content}\\n\")  \n",
    "    print(f\"Metadado: {elemento.metadata}\")  \n",
    "    print(\"----- Página Fim    -----\")\n",
    "\n",
    "\n",
    "# async for page in loader.alazy_load():\n",
    "#     pages.append(page)     \n",
    "\n",
    "# print(f\"-> {pages[0].metadata}\\n\")\n",
    "# print(pages[0].page_content)     "
   ]
  },
  {
   "cell_type": "markdown",
   "metadata": {},
   "source": [
    "Para PDFs não estruturados, com imagens ou tabelas, é necessário extratores mais complexos e robustos, então convido você a acessar a documentação do LangChain onde há vários exemplos.\n",
    "\n",
    "## Carregador de Texto"
   ]
  },
  {
   "cell_type": "code",
   "execution_count": null,
   "metadata": {},
   "outputs": [],
   "source": [
    "from langchain_community.document_loaders import TextLoader  \n",
    "  \n",
    "loader = TextLoader(r\"exemplo_arquivo.txt\")  \n",
    "pages_sinc = loader.load()  \n",
    "  \n",
    "# Aqui verificaremos que pages_sinc é uma lista de 'Document':  \n",
    "print(\"\\n------ Imprimindo o resultado ------\\n\")  \n",
    "print(pages_sinc)  \n",
    "  \n",
    "print(\"\\n------ Imprimindo o resultado ------\\n\")  \n",
    "# Acessando os valores carregados:  \n",
    "for elemento in pages_sinc:  \n",
    "    print(\"----- Página Inicio -----\")  \n",
    "    print(f\"Conteúdo: {elemento.page_content}\\n\")  \n",
    "    print(f\"Metadado: {elemento.metadata}\")  \n",
    "    print(\"----- Página Fim    -----\")"
   ]
  },
  {
   "cell_type": "markdown",
   "metadata": {},
   "source": [
    "## Carregador de Página Web\n",
    "[link](https://python.langchain.com/docs/how_to/document_loader_web/)\n",
    "\n",
    "Para fazer a leitura de páginas da web no formato LangChain, podemos utilizar a biblioteca `beautifulsoup4` ou `langchain-unstructured`.\n",
    "\n",
    "Importações:"
   ]
  },
  {
   "cell_type": "code",
   "execution_count": null,
   "metadata": {},
   "outputs": [],
   "source": [
    "%pip install langchain-community langchain-unstructured unstructured beautifulsoup4 "
   ]
  },
  {
   "cell_type": "markdown",
   "metadata": {},
   "source": [
    "### Para uma análise simples:\n"
   ]
  },
  {
   "cell_type": "code",
   "execution_count": null,
   "metadata": {},
   "outputs": [],
   "source": [
    "from langchain_community.document_loaders import WebBaseLoader  \n",
    "  \n",
    "page_url = \"https://python.langchain.com/docs/introduction/\"  \n",
    "  \n",
    "loader = WebBaseLoader(web_paths=[page_url])  \n",
    "resultado = loader.load()  \n",
    "  \n",
    "  \n",
    "# Aqui verificaremos que pages_sinc é uma lista de 'Document':  \n",
    "print(\"\\n------ Imprimindo o resultado ------\\n\")  \n",
    "print(resultado)  \n",
    "  \n",
    "print(\"\\n------ Imprimindo o resultado ------\\n\")  \n",
    "# Acessando os valores carregados:  \n",
    "for elemento in resultado:  \n",
    "    print(\"----- Página Inicio -----\")  \n",
    "    print(f\"Conteúdo: {elemento.page_content}\\n\")  \n",
    "    print(f\"Metadado: {elemento.metadata}\")  \n",
    "    print(\"----- Página Fim    -----\")"
   ]
  },
  {
   "cell_type": "markdown",
   "metadata": {},
   "source": [
    "### Para uma análise avançada:\n",
    "\n",
    "Este método é apropriado se quisermos um controle ou processamento mais granular do conteúdo da página. Abaixo, em vez de gerar um `Document`por página e controlar seu conteúdo via BeautifulSoup, geramos vários `Document`objetos representando estruturas distintas em uma página. Essas estruturas podem incluir títulos de seção e seus textos de corpo correspondentes, listas ou enumerações, tabelas e muito mais."
   ]
  },
  {
   "cell_type": "code",
   "execution_count": null,
   "metadata": {},
   "outputs": [],
   "source": [
    "from langchain_unstructured import UnstructuredLoader  \n",
    "  \n",
    "page_url = \"https://python.langchain.com/docs/how_to/chatbots_memory/\"  \n",
    "loader = UnstructuredLoader(web_url=page_url)  \n",
    "  \n",
    "resultado = loader.load()  \n",
    "  \n",
    "  \n",
    "# Aqui verificaremos que pages_sinc é uma lista de 'Document':  \n",
    "print(\"\\n------ Imprimindo o resultado ------\\n\")  \n",
    "print(resultado)  \n",
    "  \n",
    "print(\"\\n------ Imprimindo o resultado ------\\n\")  \n",
    "# Acessando os valores carregados:  \n",
    "for elemento in resultado:  \n",
    "    print(\"----- Página Inicio -----\")  \n",
    "    print(f\"Conteúdo: {elemento.page_content}\\n\")  \n",
    "    print(f\"Metadado: {elemento.metadata}\")  \n",
    "    print(\"----- Página Fim    -----\")"
   ]
  },
  {
   "cell_type": "markdown",
   "metadata": {},
   "source": [
    "## Carregadores de CSVs\n",
    "[link](https://python.langchain.com/docs/how_to/document_loader_csv/)"
   ]
  },
  {
   "cell_type": "code",
   "execution_count": null,
   "metadata": {},
   "outputs": [],
   "source": [
    "from langchain_community.document_loaders.csv_loader import CSVLoader  \n",
    "  \n",
    "file_path = r\"exemplo_arquivo.csv\"  \n",
    "  \n",
    "loader = CSVLoader(file_path=file_path)  \n",
    "data = loader.load()  \n",
    "  \n",
    "linha = 0  \n",
    "for record in data:  \n",
    "    print(f\"Imprimindo linha: {linha}\")  \n",
    "    print(f\"-----------\")  \n",
    "    print(record)  \n",
    "    print(f\"-----------\")  \n",
    "    linha+=1  \n",
    "print(\"---- Imprimindo de forma estruturada ----\")  \n",
    "for record in data:  \n",
    "    print(f\"Imprimindo linha: {linha}\")  \n",
    "    print(f\"Conteúdo: {record.page_content}\\n\")  \n",
    "    print(f\"-----------\")  \n",
    "    linha+=1"
   ]
  },
  {
   "cell_type": "markdown",
   "metadata": {},
   "source": [
    "## Carregadores de JSON\n",
    "[link](https://python.langchain.com/docs/how_to/document_loader_json/)"
   ]
  },
  {
   "cell_type": "code",
   "execution_count": null,
   "metadata": {},
   "outputs": [],
   "source": [
    "%pip install jq"
   ]
  },
  {
   "cell_type": "code",
   "execution_count": null,
   "metadata": {},
   "outputs": [],
   "source": [
    "from langchain_community.document_loaders import JSONLoader\n",
    "\n",
    "\n",
    "loader = JSONLoader(\n",
    "    file_path='exemplo_arquivo.json',\n",
    "    jq_schema='.messages[].content',\n",
    "    text_content=False)\n",
    "\n",
    "data = loader.load()\n",
    "\n",
    "for record in data:  \n",
    "    print(f\"Conteúdo: {record.page_content}\\n\")  \n",
    "    print(f\"-----------\")  \n",
    "    "
   ]
  },
  {
   "cell_type": "markdown",
   "metadata": {},
   "source": [
    "## Carregadores de Markdown\n",
    "[link](https://python.langchain.com/docs/how_to/document_loader_markdown/)"
   ]
  },
  {
   "cell_type": "code",
   "execution_count": null,
   "metadata": {},
   "outputs": [],
   "source": [
    "from langchain_community.document_loaders import UnstructuredMarkdownLoader\n",
    "from langchain_core.documents import Document\n",
    "\n",
    "markdown_path = \"Ambiente.md\"\n",
    "loader = UnstructuredMarkdownLoader(markdown_path)\n",
    "\n",
    "data = loader.load()\n",
    "assert len(data) == 1\n",
    "assert isinstance(data[0], Document)\n",
    "readme_content = data[0].page_content\n",
    "print(readme_content[:250])\n"
   ]
  }
 ],
 "metadata": {
  "kernelspec": {
   "display_name": "Python (grassato)",
   "language": "python",
   "name": "grassato"
  },
  "language_info": {
   "codemirror_mode": {
    "name": "ipython",
    "version": 3
   },
   "file_extension": ".py",
   "mimetype": "text/x-python",
   "name": "python",
   "nbconvert_exporter": "python",
   "pygments_lexer": "ipython3",
   "version": "3.12.11"
  },
  "orig_nbformat": 4
 },
 "nbformat": 4,
 "nbformat_minor": 2
}
