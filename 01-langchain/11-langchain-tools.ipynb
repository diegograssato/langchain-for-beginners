{
 "cells": [
  {
   "cell_type": "markdown",
   "metadata": {},
   "source": [
    "######"
   ]
  },
  {
   "cell_type": "code",
   "execution_count": 1,
   "metadata": {},
   "outputs": [],
   "source": [
    "%run ../helpers/00-llm.ipynb"
   ]
  },
  {
   "cell_type": "code",
   "execution_count": 2,
   "metadata": {},
   "outputs": [
    {
     "name": "stderr",
     "output_type": "stream",
     "text": [
      "INFO:helpers.llm:Using AzureOpenAI.\n"
     ]
    }
   ],
   "source": [
    "from helpers.llm import initialize_llm, logger, pretty_print_docs\n",
    "\n",
    "llm, _, embeddings = initialize_llm() "
   ]
  },
  {
   "cell_type": "code",
   "execution_count": 3,
   "metadata": {},
   "outputs": [],
   "source": [
    "from langchain_experimental.utilities import PythonREPL\n",
    "from langchain_community.tools import DuckDuckGoSearchRun,WikipediaQueryRun\n",
    "from langchain_community.utilities import WikipediaAPIWrapper"
   ]
  },
  {
   "cell_type": "markdown",
   "metadata": {},
   "source": [
    "# Executa Código Python"
   ]
  },
  {
   "cell_type": "code",
   "execution_count": 4,
   "metadata": {},
   "outputs": [
    {
     "name": "stderr",
     "output_type": "stream",
     "text": [
      "Python REPL can execute arbitrary code. Use with caution.\n"
     ]
    },
    {
     "name": "stdout",
     "output_type": "stream",
     "text": [
      "25\n",
      "\n"
     ]
    }
   ],
   "source": [
    "python_repl = PythonREPL()\n",
    "result = python_repl.run(\"print(5 * 5)\")\n",
    "print(result)"
   ]
  },
  {
   "cell_type": "markdown",
   "metadata": {},
   "source": [
    "# Busca na Web"
   ]
  },
  {
   "cell_type": "code",
   "execution_count": 5,
   "metadata": {},
   "outputs": [
    {
     "name": "stderr",
     "output_type": "stream",
     "text": [
      "/home/grassato/langchain-for-beginners/.venv/lib/python3.12/site-packages/langchain_community/utilities/duckduckgo_search.py:63: RuntimeWarning: This package (`duckduckgo_search`) has been renamed to `ddgs`! Use `pip install ddgs` instead.\n",
      "  with DDGS() as ddgs:\n"
     ]
    }
   ],
   "source": [
    "ddg_search = DuckDuckGoSearchRun()\n",
    "\n",
    "query = \"Qual é a capital da Guiana?\"\n",
    "search_results = ddg_search.run(query)"
   ]
  },
  {
   "cell_type": "code",
   "execution_count": 6,
   "metadata": {},
   "outputs": [
    {
     "name": "stdout",
     "output_type": "stream",
     "text": [
      "Resultados da busca: May 16, 2025 · Qual é a capital da Guiana e por que é assim? A Guiana, um país fascinante localizado na costa nordeste da América do Sul, encanta com sua diversidade cultural e natural. … Dec 19, 2024 · A capital da Guiana, Georgetown, é conhecida por sua arquitetura colonial e seus mercados vibrantes. A Guiana é um dos poucos países do mundo onde a água potável é … Sep 2, 2024 · A taxa de criminalidade na Guiana é elevada, incluindo roubos violentos e ataques à mão armada. Algumas zonas de Georgetown são particularmente inseguras, pelo que deverá … 5 days ago · 1. Georgetown (capital da Guiana) A capital da Guiana é a porta de entrada para os turistas que escolhem chegar ao país de avião, mas também é um importante ponto turístico … Apr 24, 2025 · 🏛️ Qual é a capital da Guiana Brasileira? A capital da Guiana Brasileira é Lisboa. Após a integração com o Brasil, a cidade passou a ser considerada a capital do novo estado brasileiro, …\n"
     ]
    }
   ],
   "source": [
    "print(\"Resultados da busca:\", search_results)"
   ]
  },
  {
   "cell_type": "markdown",
   "metadata": {},
   "source": [
    "# Consulta a Wikipedia"
   ]
  },
  {
   "cell_type": "code",
   "execution_count": 7,
   "metadata": {},
   "outputs": [
    {
     "name": "stderr",
     "output_type": "stream",
     "text": [
      "/home/grassato/langchain-for-beginners/.venv/lib/python3.12/site-packages/wikipedia/wikipedia.py:389: GuessedAtParserWarning: No parser was explicitly specified, so I'm using the best available HTML parser for this system (\"lxml\"). This usually isn't a problem, but if you run this code on another system, or in a different virtual environment, it may use a different parser and behave differently.\n",
      "\n",
      "The code that caused this warning is on line 389 of the file /home/grassato/langchain-for-beginners/.venv/lib/python3.12/site-packages/wikipedia/wikipedia.py. To get rid of this warning, pass the additional argument 'features=\"lxml\"' to the BeautifulSoup constructor.\n",
      "\n",
      "  lis = BeautifulSoup(html).find_all('li')\n"
     ]
    }
   ],
   "source": [
    "wikipedia = WikipediaQueryRun(api_wrapper=WikipediaAPIWrapper())\n",
    "query = \"Guiana\"\n",
    "wikipedia_results = wikipedia.run(query)"
   ]
  },
  {
   "cell_type": "code",
   "execution_count": 8,
   "metadata": {},
   "outputs": [
    {
     "name": "stdout",
     "output_type": "stream",
     "text": [
      "Resultados da Wikipedia: Page: French Guiana\n",
      "Summary: French Guiana, or Guyane in French, is an overseas department and region of France located on the northern coast of South America in the Guianas and the West Indies. Bordered by Suriname to the west and Brazil to the east and south, French Guiana covers a total area of 84,000 km2 (32,000 sq mi) and a land area of 83,534 km2 (32,253 sq mi). As of January 2025, it is home to 292,354 people.\n",
      "\n",
      "French Guiana is the second-largest region in France, being approximately one-seventh the size of European France, and the largest outermost region within the European Union. It has a very low population density, with only 3.6 inhabitants per square kilometre (9.3/sq mi). About half of its residents live in its capital, Cayenne. Approximately 98.9% of French Guiana is covered by forests, much of it primeval rainforest. Guiana Amazonian Park, the largest national park in the European Union covers 41% of French Guiana's territory.\n",
      "Since December 2015, both the region and department have been ruled by a single assembly within the framework of a single territorial collectivity, the French Guiana Territorial Collectivity. This assembly, the French Guiana Assembly, replaced the former regional and departmental council, which were dissolved. The French Guiana Assembly is in charge of regional and departmental government. Its president is Gabriel Serville.\n",
      "\n",
      "Fully integrated in the French Republic since 1946, French Guiana is a part of the European Union, and its official currency is the euro. A large part of French Guiana's economy depends on jobs and businesses associated with the presence of the Guiana Space Centre, now the European Space Agency's primary launch site near the equator. As elsewhere in France, the official language is standard French, but each ethnic community has its own language, of which French Guianese Creole, a French-based creole language, is the most widely spoken. French Guiana is the only territory on the continental mainland of the Americas that is still under the sovereignty of a European state.\n",
      "The border between French Guiana and Brazil is the longest land border that France shares with another country, as well as one of only two borders which France shares with non-European states, the other being the border with Suriname in the west.\n",
      "\n",
      "Page: The Guianas\n",
      "Summary: The Guianas, also spelled Guyanas or Guayanas, are a geographical region in north-eastern South America. Strictly, the term refers to the three Guianas: Guyana, Suriname, and French Guiana, formerly British, Dutch, and French Guiana respectively. Broadly, it refers to the South American coast from the mouth of the Orinoco to the mouth of the Amazon.\n",
      "Politically it is divided into:\n",
      "\n",
      "Spanish or Venezuelan Guiana, now the Delta Amacuro State and Guayana Region of Venezuela.\n",
      "Guyana, formerly British Guiana, independent since 1966.\n",
      "Suriname, formerly Dutch Guiana, independent since 1975.\n",
      "French Guiana, an overseas department and region of France.\n",
      "Brazilian or Portuguese Guiana, now the Amapá State of Brazil.\n",
      "The three Guianas proper have a combined population of 1,718,651; Guyana: 804,567, Suriname: 612,985, and French Guiana: 301,099. Most of the population is along the coast. Due to the jungles to the south, the Guianas are one of the most sparsely populated regions on Earth.\n",
      "Prior to c. 1815 there was a string of mostly Dutch settlements along the coast which changed hands several times. They were mostly several miles upriver to avoid the coastal marshes which were only drained later. \n",
      "\n",
      "British Guiana (before 1793 part of Dutch Guyana):\n",
      "Pomeroon (colony) (70 miles NW of Georgetown) 165?: Dutch, 1689:abandoned after French destruction, Dutch later return, 1831 to British Guyana.\n",
      "Essequibo (colony) (20 miles NW of Georgetown) c 1616 Dutch, 1665 British occupation, (1781 British, 1782 French occupation, 1783 Dutch), 1793 British, 1831 British Guiana\n",
      "Demerara (Georgetown) 1745 Dutch from Essequibo, 1781-1831: like Essequibo\n",
      "Berbice (114 m\n"
     ]
    }
   ],
   "source": [
    "print(\"Resultados da Wikipedia:\", wikipedia_results)"
   ]
  },
  {
   "cell_type": "code",
   "execution_count": 3,
   "metadata": {},
   "outputs": [],
   "source": [
    "from langchain_tavily import TavilySearch\n",
    "\n",
    "tavily = TavilySearch(\n",
    "    max_results=5,\n",
    "    topic=\"general\"\n",
    ")\n",
    "\n",
    "query = \"Quais documentos são necessários para vender um carro?\"\n",
    "tavily_results = tavily.run({\"query\": query})\n"
   ]
  },
  {
   "cell_type": "code",
   "execution_count": 4,
   "metadata": {},
   "outputs": [
    {
     "name": "stdout",
     "output_type": "stream",
     "text": [
      "Title: Quais são os documentos necessários para vender o carro?\n",
      "Content: Neste post, o Zul+ preparou um passo a passo completo para você para realizar a transação do seu veículo e te mostra quais são os documentos necessários para vender o carro. Quando a transação estiver concluída, é preciso juntar todos os documentos necessários para vender o carro, como o CRV, o CRLV, a identidade e um comprovante de endereço do comprador, laudo de vistoria em uma empresa credenciada, formulário do Renavam e comprovante de pagamento das taxas. No dia marcado, é necessário a apresentação do CRV antigo original com o reconhecimento de firma do vendedor e do comprador, além de todos os documentos enviados no processo de transferência.\n",
      "_*__*__*__*__*__*__*__*__*__*__*__*__*__*__*__*__*__*__*__*__*__*__*__*__*__*__*__*__*__*__*__*__*__*__*__*__*__*__*__*__*__*__*__*__*__*__*__*__*__*__*__*__*__*__*__*__*__*__*__*__*__*__*__*__*__*__*__*__*__*__*__*__*__*__*__*__*__*__*__*__*__*__*__*__*__*__*__*__*__*__*__*__*__*__*__*__*__*__*__*__*__*__*__*__*__*__*__*__*__*__*__*__*__*__*__*__*__*__*__*__*__*__*__*__*__*__*__*__*__*__*__*__*__*__*__*__*__*__*__*__*__*__*__*__*__*__*__*__*__*_\n",
      "Title: Documentos necessários para a venda de um carro usado\n",
      "Content: 4.   Documentos necessários para a venda de um carro usado: o que precisa de saber Documentos necessários para a venda de um carro usado: o que precisa de saber Para concluir a venda do seu carro usado, deve fornecer determinados documentos oficiais, incluindo o documento único e a declaração de venda automóvel, devidamente atualizados, bem como um relatório de inspeção técnica (facultativo). Apesar do termo Declaração de Venda Automóvel ser bastante usado, na verdade, o que existe é o Requerimento de Registo Automóvel que, entre outras coisas, serve para identificar os intervenientes no processo de compra e venda de um veículo usado.\n",
      "_*__*__*__*__*__*__*__*__*__*__*__*__*__*__*__*__*__*__*__*__*__*__*__*__*__*__*__*__*__*__*__*__*__*__*__*__*__*__*__*__*__*__*__*__*__*__*__*__*__*__*__*__*__*__*__*__*__*__*__*__*__*__*__*__*__*__*__*__*__*__*__*__*__*__*__*__*__*__*__*__*__*__*__*__*__*__*__*__*__*__*__*__*__*__*__*__*__*__*__*__*__*__*__*__*__*__*__*__*__*__*__*__*__*__*__*__*__*__*__*__*__*__*__*__*__*__*__*__*__*__*__*__*__*__*__*__*__*__*__*__*__*__*__*__*__*__*__*__*__*_\n",
      "Title: Documentos para vender um carro: tudo o que precisa saber\n",
      "Content: Documento Único Automóvel ou Livrete e Título de registo de propriedade · Certificado da IPO · Requerimento de Registo Automóvel · Documento de identificação do ...See more\n",
      "_*__*__*__*__*__*__*__*__*__*__*__*__*__*__*__*__*__*__*__*__*__*__*__*__*__*__*__*__*__*__*__*__*__*__*__*__*__*__*__*__*__*__*__*__*__*__*__*__*__*__*__*__*__*__*__*__*__*__*__*__*__*__*__*__*__*__*__*__*__*__*__*__*__*__*__*__*__*__*__*__*__*__*__*__*__*__*__*__*__*__*__*__*__*__*__*__*__*__*__*__*__*__*__*__*__*__*__*__*__*__*__*__*__*__*__*__*__*__*__*__*__*__*__*__*__*__*__*__*__*__*__*__*__*__*__*__*__*__*__*__*__*__*__*__*__*__*__*__*__*_\n",
      "Title: Guia completo de documentos para comprar e vender ...\n",
      "Content: Guia completo de documentos para comprar e vender veículos: tudo o que você precisa saber | Casa Grande Auto Shopping Guia completo de documentos para comprar e vender veículos: tudo o que você precisa saber ### Guia completo de documentos para comprar e vender veículos: tudo o que você precisa saber Se você está pensando em comprar ou vender um veículo, é importante estar familiarizado com os documentos necessários para a transação. Ao vender um veículo usado, o vendedor deve garantir que todos os documentos necessários estejam em ordem para facilitar a transferência de propriedade. Image 5: Guia completo de documentos para comprar e vender veículos: tudo o que você precisa saber\n",
      "_*__*__*__*__*__*__*__*__*__*__*__*__*__*__*__*__*__*__*__*__*__*__*__*__*__*__*__*__*__*__*__*__*__*__*__*__*__*__*__*__*__*__*__*__*__*__*__*__*__*__*__*__*__*__*__*__*__*__*__*__*__*__*__*__*__*__*__*__*__*__*__*__*__*__*__*__*__*__*__*__*__*__*__*__*__*__*__*__*__*__*__*__*__*__*__*__*__*__*__*__*__*__*__*__*__*__*__*__*__*__*__*__*__*__*__*__*__*__*__*__*__*__*__*__*__*__*__*__*__*__*__*__*__*__*__*__*__*__*__*__*__*__*__*__*__*__*__*__*__*_\n",
      "Title: Guia para a compra e venda de carros entre particulares\n",
      "Content: Para oficializar a venda, comprador e vendedor têm de preencher o Modelo Único/Requerimento de Registo Automóvel. O vendedor deve preencher e assinar enquanto ...See more\n",
      "_*__*__*__*__*__*__*__*__*__*__*__*__*__*__*__*__*__*__*__*__*__*__*__*__*__*__*__*__*__*__*__*__*__*__*__*__*__*__*__*__*__*__*__*__*__*__*__*__*__*__*__*__*__*__*__*__*__*__*__*__*__*__*__*__*__*__*__*__*__*__*__*__*__*__*__*__*__*__*__*__*__*__*__*__*__*__*__*__*__*__*__*__*__*__*__*__*__*__*__*__*__*__*__*__*__*__*__*__*__*__*__*__*__*__*__*__*__*__*__*__*__*__*__*__*__*__*__*__*__*__*__*__*__*__*__*__*__*__*__*__*__*__*__*__*__*__*__*__*__*_\n"
     ]
    }
   ],
   "source": [
    "for result in tavily_results['results']:\n",
    "    print(f\"Title: {result['title']}\")\n",
    "    print(f\"Content: {result['content']}\")\n",
    "    print(\"_*_\" * 150)"
   ]
  },
  {
   "cell_type": "markdown",
   "metadata": {},
   "source": [
    "### Custom tools"
   ]
  },
  {
   "cell_type": "code",
   "execution_count": 12,
   "metadata": {},
   "outputs": [],
   "source": [
    "from langchain.tools import tool\n",
    "import requests\n",
    "\n",
    "@tool\n",
    "def prever_idade(nome: str) -> str:\n",
    "    \"\"\"Prevê a idade média com base em um nome.\"\"\"\n",
    "    try:\n",
    "        resposta = requests.get(f\"https://api.agify.io/?name={nome}\")\n",
    "        if resposta.status_code == 200:\n",
    "            idade = resposta.json().get(\"age\", \"desconhecida\")\n",
    "            return f\"A idade média para o nome {nome} é {idade} anos.\"\n",
    "        else:\n",
    "            return f\"Erro ao consultar idade para {nome}.\"\n",
    "    except Exception as e:\n",
    "        return f\"Erro de conexão: {str(e)}\""
   ]
  },
  {
   "cell_type": "code",
   "execution_count": 13,
   "metadata": {},
   "outputs": [
    {
     "data": {
      "text/plain": [
       "'A idade média para o nome Vanessa é 42 anos.'"
      ]
     },
     "execution_count": 13,
     "metadata": {},
     "output_type": "execute_result"
    }
   ],
   "source": [
    "prever_idade.run(\"Vanessa\")"
   ]
  },
  {
   "cell_type": "code",
   "execution_count": 14,
   "metadata": {},
   "outputs": [],
   "source": [
    "from langchain.tools import tool\n",
    "from pydantic import BaseModel, Field\n",
    "\n",
    "# Definindo o esquema de entrada para a ferramenta\n",
    "class MultiplicacaoInput(BaseModel):\n",
    "    x: int = Field(description=\"Primeiro número inteiro a ser multiplicado\")\n",
    "    y: int = Field(description=\"Segundo número inteiro a ser multiplicado\")\n",
    "\n",
    "@tool(args_schema=MultiplicacaoInput)\n",
    "def multiplicar(x: int, y: int) -> int:\n",
    "    \"\"\"Multiplica dois números inteiros\"\"\"\n",
    "    print(f\"Multiplicando {x} por {y}\")\n",
    "    return x * y\n"
   ]
  },
  {
   "cell_type": "code",
   "execution_count": 15,
   "metadata": {},
   "outputs": [
    {
     "name": "stdout",
     "output_type": "stream",
     "text": [
      "Multiplicando 9 por 10\n"
     ]
    },
    {
     "data": {
      "text/plain": [
       "90"
      ]
     },
     "execution_count": 15,
     "metadata": {},
     "output_type": "execute_result"
    }
   ],
   "source": [
    "multiplicar.run({\"x\": 9, \"y\": 10})"
   ]
  }
 ],
 "metadata": {
  "kernelspec": {
   "display_name": "Python (langchain)",
   "language": "python",
   "name": "langchain"
  },
  "language_info": {
   "codemirror_mode": {
    "name": "ipython",
    "version": 3
   },
   "file_extension": ".py",
   "mimetype": "text/x-python",
   "name": "python",
   "nbconvert_exporter": "python",
   "pygments_lexer": "ipython3",
   "version": "3.12.3"
  },
  "orig_nbformat": 4
 },
 "nbformat": 4,
 "nbformat_minor": 2
}
