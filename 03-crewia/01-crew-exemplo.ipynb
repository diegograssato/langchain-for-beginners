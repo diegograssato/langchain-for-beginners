{
 "cells": [
  {
   "cell_type": "code",
   "execution_count": 2,
   "metadata": {},
   "outputs": [],
   "source": [
    "%run ../helpers/00-llm.ipynb"
   ]
  },
  {
   "cell_type": "code",
   "execution_count": 3,
   "metadata": {},
   "outputs": [
    {
     "ename": "ImportError",
     "evalue": "cannot import name 'ScrapeWebsiteTool' from 'crewai_tools' (/home/grassato/langchain-for-beginners/.venv/lib/python3.12/site-packages/crewai_tools/__init__.py)",
     "output_type": "error",
     "traceback": [
      "\u001b[31m---------------------------------------------------------------------------\u001b[39m",
      "\u001b[31mImportError\u001b[39m                               Traceback (most recent call last)",
      "\u001b[36mCell\u001b[39m\u001b[36m \u001b[39m\u001b[32mIn[3]\u001b[39m\u001b[32m, line 1\u001b[39m\n\u001b[32m----> \u001b[39m\u001b[32m1\u001b[39m \u001b[38;5;28;01mfrom\u001b[39;00m\u001b[38;5;250m \u001b[39m\u001b[34;01mcrewai_tools\u001b[39;00m\u001b[38;5;250m \u001b[39m\u001b[38;5;28;01mimport\u001b[39;00m ScrapeWebsiteTool, FileWriterTool, TXTSearchTool\n\u001b[32m      2\u001b[39m \u001b[38;5;28;01mimport\u001b[39;00m\u001b[38;5;250m \u001b[39m\u001b[34;01mrequests\u001b[39;00m\n",
      "\u001b[31mImportError\u001b[39m: cannot import name 'ScrapeWebsiteTool' from 'crewai_tools' (/home/grassato/langchain-for-beginners/.venv/lib/python3.12/site-packages/crewai_tools/__init__.py)"
     ]
    }
   ],
   "source": [
    "from crewai_tools import ScrapeWebsiteTool, FileWriterTool, TXTSearchTool\n",
    "import requests\n"
   ]
  },
  {
   "cell_type": "code",
   "execution_count": 2,
   "metadata": {},
   "outputs": [
    {
     "ename": "ImportError",
     "evalue": "cannot import name 'TavilySearchTool' from 'langchain.tools.tavily_search' (/home/grassato/langchain-for-beginners/.venv/lib/python3.12/site-packages/langchain/tools/tavily_search/__init__.py)",
     "output_type": "error",
     "traceback": [
      "\u001b[31m---------------------------------------------------------------------------\u001b[39m",
      "\u001b[31mImportError\u001b[39m                               Traceback (most recent call last)",
      "\u001b[36mCell\u001b[39m\u001b[36m \u001b[39m\u001b[32mIn[2]\u001b[39m\u001b[32m, line 2\u001b[39m\n\u001b[32m      1\u001b[39m \u001b[38;5;28;01mfrom\u001b[39;00m\u001b[38;5;250m \u001b[39m\u001b[34;01mcrewai\u001b[39;00m\u001b[38;5;250m \u001b[39m\u001b[38;5;28;01mimport\u001b[39;00m Agent, Task, Crew\n\u001b[32m----> \u001b[39m\u001b[32m2\u001b[39m \u001b[38;5;28;01mfrom\u001b[39;00m\u001b[38;5;250m \u001b[39m\u001b[34;01mlangchain\u001b[39;00m\u001b[34;01m.\u001b[39;00m\u001b[34;01mtools\u001b[39;00m\u001b[34;01m.\u001b[39;00m\u001b[34;01mtavily_search\u001b[39;00m\u001b[38;5;250m \u001b[39m\u001b[38;5;28;01mimport\u001b[39;00m TavilySearchTool\n\u001b[32m      3\u001b[39m \u001b[38;5;28;01mfrom\u001b[39;00m\u001b[38;5;250m \u001b[39m\u001b[34;01mhelpers\u001b[39;00m\u001b[34;01m.\u001b[39;00m\u001b[34;01mllm\u001b[39;00m\u001b[38;5;250m \u001b[39m\u001b[38;5;28;01mimport\u001b[39;00m initialize_llm, logger, pretty_print_docs\n\u001b[32m      4\u001b[39m \u001b[38;5;28;01mfrom\u001b[39;00m\u001b[38;5;250m \u001b[39m\u001b[34;01mcrewai\u001b[39;00m\u001b[34;01m.\u001b[39;00m\u001b[34;01mtools\u001b[39;00m\u001b[38;5;250m \u001b[39m\u001b[38;5;28;01mimport\u001b[39;00m tool\n",
      "\u001b[31mImportError\u001b[39m: cannot import name 'TavilySearchTool' from 'langchain.tools.tavily_search' (/home/grassato/langchain-for-beginners/.venv/lib/python3.12/site-packages/langchain/tools/tavily_search/__init__.py)"
     ]
    }
   ],
   "source": [
    "from crewai import Agent, Task, Crew\n",
    "from langchain.tools.tavily_search import TavilySearchTool\n",
    "from helpers.llm import initialize_llm, logger, pretty_print_docs\n",
    "from crewai.tools import tool\n",
    "from pydantic import BaseModel, Field\n",
    "import requests\n",
    "\n",
    "llm, _, _ = initialize_llm() \n",
    "\n",
    "import os\n",
    "from dotenv import load_dotenv\n",
    "\n",
    "load_dotenv() \n",
    "\n",
    "# Instancia a ferramenta de busca Tavily\n",
    "search_tool = TavilySearchTool()\n",
    " \n",
    "# Agente 1: Pesquisador\n",
    "pesquisador = Agent(\n",
    "    role=\"Pesquisador Técnico\",\n",
    "    goal=\"Buscar as informações mais recentes e relevantes sobre o tema\",\n",
    "    backstory=\"Você é especialista em coleta de dados atualizados na área de tecnologia.\",\n",
    "    tools=[search_tool],\n",
    "    llm=\"azure/chat-deployment\",\n",
    "    provider=\"azure_openai\",  # or \n",
    "    verbose=True,\n",
    ")\n",
    "\n",
    "# Agente 2: Redator\n",
    "redator = Agent(\n",
    "    role=\"Redator Técnico\",\n",
    "    goal=\"Organizar as informações em um relatório claro e bem estruturado\",\n",
    "    backstory=\"Você tem experiência em escrita técnica e sabe comunicar ideias de forma concisa.\",\n",
    "    tools=[],\n",
    "    llm=\"azure/chat-deployment\",\n",
    "    provider=\"azure_openai\",  # or \n",
    "    verbose=True,\n",
    ")\n",
    "\n",
    "# Tarefa 1: Pesquisa\n",
    "tarefa_pesquisa = Task(\n",
    "    description=\"Pesquisar as últimas notícias sobre 'IA no setor de saúde' e resumir os principais pontos com fontes.\",\n",
    "    expected_output=\"Um resumo com pelo menos 3 tópicos principais e links das fontes.\",\n",
    "    agent=pesquisador,\n",
    ")\n",
    "\n",
    "# Tarefa 2: Redação\n",
    "tarefa_redacao = Task(\n",
    "    description=\"Com base na pesquisa feita, redigir um relatório com introdução, tópicos principais e conclusão.\",\n",
    "    expected_output=\"Texto bem formatado com linguagem técnica acessível.\",\n",
    "    agent=redator,\n",
    "    context=[tarefa_pesquisa],  # Usa a saída da tarefa anterior como input\n",
    ")\n",
    "\n",
    "# Cria a crew\n",
    "crew = Crew(\n",
    "    agents=[pesquisador, redator],\n",
    "    tasks=[tarefa_pesquisa, tarefa_redacao],\n",
    "    llm=llm,\n",
    "    verbose=True,\n",
    ")\n",
    "\n",
    "# Executa\n",
    "resultado = crew.kickoff()\n",
    "print(\"\\n📄 Relatório Final:\\n\", resultado)"
   ]
  }
 ],
 "metadata": {
  "kernelspec": {
   "display_name": "Python (langchain)",
   "language": "python",
   "name": "langchain"
  },
  "language_info": {
   "codemirror_mode": {
    "name": "ipython",
    "version": 3
   },
   "file_extension": ".py",
   "mimetype": "text/x-python",
   "name": "python",
   "nbconvert_exporter": "python",
   "pygments_lexer": "ipython3",
   "version": "3.12.3"
  },
  "orig_nbformat": 4
 },
 "nbformat": 4,
 "nbformat_minor": 2
}
