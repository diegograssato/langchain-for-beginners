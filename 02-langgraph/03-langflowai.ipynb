{
 "cells": [
  {
   "cell_type": "markdown",
   "metadata": {},
   "source": [
    "O Langflow (ou langflow.ai) é uma interface visual de desenvolvimento low-code para aplicações de IA com LangChain.\n",
    "\n"
   ]
  },
  {
   "cell_type": "markdown",
   "metadata": {},
   "source": [
    "### 🧩 O que é o Langflow?\n",
    "Langflow permite construir, testar e visualizar fluxos de LLMs, ferramentas, agentes e chains com uma interface drag-and-drop, eliminando a necessidade de codificar tudo manualmente.\n",
    "\n",
    "É como um \"Node-RED para LangChain\" — você monta graficamente seus fluxos LLM com:\n",
    "Prompts\n",
    "\n",
    "LLMs\n",
    "\n",
    "Tools\n",
    "\n",
    "Memory\n",
    "\n",
    "Retrievers\n",
    "\n",
    "Agents\n",
    "\n",
    "Condições\n",
    "\n",
    "Inputs e Outputs\n",
    "\n",
    "### 🔧 Principais funcionalidades\n",
    "\n",
    "| Recurso                         | Descrição                                                                |\n",
    "| ------------------------------- | ------------------------------------------------------------------------ |\n",
    "| 🎛️ **Editor visual**           | Construa chains e agentes conectando blocos com o mouse                  |\n",
    "| 🧠 **Suporte a LangChain**      | Total compatibilidade com componentes do LangChain                       |\n",
    "| 🔌 **LLMs e APIs**              | Integra com OpenAI, Hugging Face, Cohere, etc.                           |\n",
    "| 🧪 **Execução interativa**      | Teste fluxos em tempo real e visualize o estado da execução              |\n",
    "| 🔁 **Loops e Condições**        | Crie ramificações com lógica condicional (ex: if, switch)                |\n",
    "| 💾 **Exportação**               | Gera código Python ou JSON de fluxo para uso em projetos                 |\n",
    "| 🧱 **Componentes customizados** | Você pode adicionar suas próprias ferramentas e lógica Python            |\n",
    "| 🛠️ **Templates prontos**       | Possui modelos prontos de chatbots, Q\\&A, análise de texto, agentes etc. |\n",
    "\n"
   ]
  },
  {
   "cell_type": "markdown",
   "metadata": {},
   "source": [
    "### 🧪 Exemplo de uso\n",
    "Você pode criar graficamente:\n",
    "\n",
    "Input do usuário → PromptTemplate\n",
    "\n",
    "Prompt → ChatOpenAI\n",
    "\n",
    "Resposta → Saída visual\n",
    "\n",
    "Ou encadear: Chat → Tool → Outra LLM → Resposta final\n",
    "\n",
    "E depois clicar em \"Run\" para ver a execução acontecer ao vivo."
   ]
  },
  {
   "cell_type": "markdown",
   "metadata": {},
   "source": [
    "### 🌐 Site oficial\n",
    "\n",
    "Acesse: https://langflow.ai\n",
    "\n",
    "Repositório: https://github.com/logspace-ai/langflow\n",
    "\n"
   ]
  },
  {
   "cell_type": "markdown",
   "metadata": {},
   "source": [
    "### 📦 Instalação local\n",
    "\n",
    "Você pode instalar com:"
   ]
  },
  {
   "cell_type": "code",
   "execution_count": null,
   "metadata": {},
   "outputs": [],
   "source": [
    "pip install langflow\n",
    "langflow run"
   ]
  },
  {
   "cell_type": "markdown",
   "metadata": {},
   "source": [
    " \n",
    "Depois acesse: http://localhost:7860"
   ]
  },
  {
   "cell_type": "markdown",
   "metadata": {},
   "source": [
    "### 📦 Usando docker "
   ]
  },
  {
   "cell_type": "markdown",
   "metadata": {},
   "source": [
    "docker run -p 7860:7860 langflowai/langflow:latest"
   ]
  },
  {
   "cell_type": "markdown",
   "metadata": {},
   "source": [
    "### 📦 Usando docker-compose"
   ]
  },
  {
   "cell_type": "markdown",
   "metadata": {},
   "source": [
    "```yaml\n",
    "# Example docker-compose.yml snippet\n",
    "services:\n",
    "    langflow:\n",
    "    image: langflowai/langflow:latest\n",
    "    volumes:\n",
    "        - ./flows:/app/flows # Mounts the local 'flows' directory to the container's '/app/flows'\n",
    "    ports:\n",
    "    - \"7860:7860\"\n",
    "\n",
    "```"
   ]
  },
  {
   "cell_type": "code",
   "execution_count": null,
   "metadata": {},
   "outputs": [],
   "source": [
    "docker compose up"
   ]
  },
  {
   "cell_type": "code",
   "execution_count": null,
   "metadata": {},
   "outputs": [],
   "source": [
    "from langgraph.graph import StateGraph, END\n",
    "from IPython.display import Image, display\n",
    "from langchain_core.runnables import RunnableLambda\n",
    "from typing import TypedDict\n",
    "from langchain.prompts import ChatPromptTemplate\n",
    "from duckduckgo_search import DDGS\n",
    "import graphviz"
   ]
  },
  {
   "cell_type": "markdown",
   "metadata": {},
   "source": [
    " \n",
    "Depois acesse: http://localhost:7860"
   ]
  }
 ],
 "metadata": {
  "kernelspec": {
   "display_name": "Python (grassato)",
   "language": "python",
   "name": "grassato"
  },
  "language_info": {
   "codemirror_mode": {
    "name": "ipython",
    "version": 3
   },
   "file_extension": ".py",
   "mimetype": "text/x-python",
   "name": "python",
   "nbconvert_exporter": "python",
   "pygments_lexer": "ipython3",
   "version": "3.12.3"
  },
  "orig_nbformat": 4
 },
 "nbformat": 4,
 "nbformat_minor": 2
}
