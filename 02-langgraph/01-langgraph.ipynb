{
 "cells": [
  {
   "cell_type": "markdown",
   "metadata": {},
   "source": [
    "\n",
    "## 🧠 LangChain — Foco em Componentes\n",
    "LangChain é um framework de orquestração para construir agentes e pipelines com LLMs. Ele oferece uma série de abstrações reutilizáveis, como:\n",
    "\n",
    "LLMs, Prompts, Chains, Tools, Agents, Memory, Retrievers\n",
    "\n",
    "Ele funciona de forma sequencial (ex: LLMChain) ou com agentes que escolhem o próximo passo.\n",
    "\n",
    "✅ Ideal para fluxos lineares ou com lógica baseada em linguagem."
   ]
  },
  {
   "cell_type": "markdown",
   "metadata": {},
   "source": [
    "## 🔄 LangGraph — Foco em Fluxos de Controle (Graph-Based)\n",
    "LangGraph é uma biblioteca construída sobre o LangChain para criar fluxos de execução baseados em grafos — ou seja, você modela sua aplicação como nós (nodes) e arestas (edges), que representam a lógica de decisão.\n",
    "\n",
    "✅ Ideal para construir máquinas de estado, agentes multi-etapas, workflows complexos, retries, loops, branching, etc.\n",
    "\n",
    "Conceitos principais:\n",
    "Node = uma função (Runnable) que processa um estado, nós\n",
    "\n",
    "Edge = transição condicional entre nós, arestas(realiza conexões entre os nós)\n",
    "\n",
    "Graph = define como os nós se conectam\n",
    "\n",
    "State = objeto que carrega informações do processo em andamento"
   ]
  },
  {
   "cell_type": "code",
   "execution_count": null,
   "metadata": {},
   "outputs": [],
   "source": [
    "%run ../helpers/00-llm.ipynb"
   ]
  },
  {
   "cell_type": "code",
   "execution_count": null,
   "metadata": {},
   "outputs": [],
   "source": [
    "from helpers.llm import initialize_llm, logger, pretty_print\n",
    " \n",
    "llm, _, _ = initialize_llm()"
   ]
  },
  {
   "cell_type": "code",
   "execution_count": null,
   "metadata": {},
   "outputs": [],
   "source": [
    "from langgraph.graph import StateGraph, END\n",
    "from IPython.display import Image, display\n",
    "from langchain_core.runnables import RunnableLambda\n",
    "from typing import TypedDict\n",
    "from langchain.prompts import ChatPromptTemplate\n",
    "from duckduckgo_search import DDGS"
   ]
  },
  {
   "cell_type": "markdown",
   "metadata": {},
   "source": [
    "# Estado e Funções de CallBack"
   ]
  },
  {
   "cell_type": "code",
   "execution_count": null,
   "metadata": {},
   "outputs": [],
   "source": [
    "class State(TypedDict):\n",
    "    message: str\n",
    "\n",
    "def start_node(state):\n",
    "    print(\"Início do processo ->\")\n",
    "    return {\"message\": \"Vamos começar!\"}      \n",
    "\n",
    "def process_node(state):\n",
    "    print(\"-> Processando:\", state[\"message\"])  \n",
    "    return {\"message\": state[\"message\"] + \" Agora estamos processando.\"} \n",
    "\n",
    "def end_node(state):\n",
    "    print(\"-> Finalizando:\", state[\"message\"])\n",
    "    return state"
   ]
  },
  {
   "cell_type": "markdown",
   "metadata": {},
   "source": [
    "# Cria Grafo"
   ]
  },
  {
   "cell_type": "code",
   "execution_count": null,
   "metadata": {},
   "outputs": [],
   "source": [
    "graph = StateGraph(State)  \n",
    "\n",
    "graph.add_node(\"start\", RunnableLambda(start_node))  \n",
    "graph.add_node(\"process\", RunnableLambda(process_node))\n",
    "graph.add_node(\"end\", RunnableLambda(end_node))\n",
    "\n"
   ]
  },
  {
   "cell_type": "markdown",
   "metadata": {},
   "source": [
    "# Transições de Estado"
   ]
  },
  {
   "cell_type": "code",
   "execution_count": null,
   "metadata": {},
   "outputs": [],
   "source": [
    "graph.set_entry_point(\"start\")\n",
    "graph.add_edge(\"start\", \"process\")\n",
    "graph.add_edge(\"process\", \"end\")\n",
    "graph.set_finish_point(\"end\")"
   ]
  },
  {
   "cell_type": "markdown",
   "metadata": {},
   "source": [
    "# Execução"
   ]
  },
  {
   "cell_type": "code",
   "execution_count": null,
   "metadata": {},
   "outputs": [],
   "source": [
    "executable = graph.compile() \n",
    "\n",
    "# Executando\n",
    "final_state = executable.invoke({})\n",
    "print(\"\\nEstado final:\", final_state)"
   ]
  },
  {
   "cell_type": "markdown",
   "metadata": {},
   "source": [
    "# Estado"
   ]
  },
  {
   "cell_type": "code",
   "execution_count": null,
   "metadata": {},
   "outputs": [],
   "source": [
    "class State(TypedDict):\n",
    "    pergunta: str  \n",
    "    conteudo: str \n",
    "    resposta: str "
   ]
  },
  {
   "cell_type": "markdown",
   "metadata": {},
   "source": [
    "# Funções de CallBack"
   ]
  },
  {
   "cell_type": "code",
   "execution_count": null,
   "metadata": {},
   "outputs": [],
   "source": [
    "def recebe_pergunta(state: State) -> State:\n",
    "    print(f\"Usuário perguntou: {state['pergunta']}\")\n",
    "    return {\"pergunta\": state[\"pergunta\"]}\n",
    "\n",
    "def precisa_pesquisar(state: State) -> State:\n",
    "    pergunta = state[\"pergunta\"].lower()\n",
    "    precisa = any(p in pergunta for p in [\"dados\", \"estatísticas\", \"números\", \"pesquisa\"])\n",
    "    print(\"Precisa pesquisar?\", precisa)\n",
    "    # Retorna um dicionário, com chave especial para decisão\n",
    "    return {\"next_step\": \"pesquisar\" if precisa else \"consultar_llm\"}\n",
    "\n",
    "def pesquisar(state: State) -> State:\n",
    "    pergunta = state[\"pergunta\"]\n",
    "    print(f\"Pesquisando no DuckDuckGo: {pergunta}\")\n",
    "\n",
    "    with DDGS() as ddgs:\n",
    "        resultados = ddgs.text(pergunta, max_results=1)\n",
    "\n",
    "    if resultados:\n",
    "        contexto = \"\\n\".join([r[\"body\"] for r in resultados if \"body\" in r])\n",
    "    else:\n",
    "        contexto = \"Nenhum resultado encontrado.\"\n",
    "\n",
    "    return {\"conteudo\": contexto}    \n",
    "\n",
    "def consultar_llm(state: State) -> State:\n",
    "    prompt = ChatPromptTemplate.from_template(\"Responda à seguinte pergunta: {pergunta}\")\n",
    "    chain = prompt | llm\n",
    "    resposta = chain.invoke({\"pergunta\": state[\"pergunta\"]})\n",
    "    print(\"Resposta direta do LLM.\")\n",
    "    return {\"resposta\": resposta.content}\n",
    "\n",
    "def sintetizar(state: State) -> State:\n",
    "    contexto = state.get(\"conteudo\", \"\")\n",
    "    pergunta = state[\"pergunta\"]\n",
    "    prompt = ChatPromptTemplate.from_template(\"\"\"\n",
    "    Use o seguinte contexto para responder a pergunta:\n",
    "    Contexto: {contexto}\n",
    "    Pergunta: {pergunta}\n",
    "    Resposta:\"\"\")\n",
    "    chain = prompt | llm\n",
    "    resposta = chain.invoke({\"contexto\": contexto, \"pergunta\": pergunta})\n",
    "    print(\"Resposta sintetizada com contexto.\")\n",
    "    return {\"resposta\": resposta.content}\n",
    "\n",
    "def responder(state: State) -> State:\n",
    "    print(\"\\n Resposta Final:\")\n",
    "    print(state[\"resposta\"])\n",
    "    return state"
   ]
  },
  {
   "cell_type": "markdown",
   "metadata": {},
   "source": [
    "# Cria Grafo"
   ]
  },
  {
   "cell_type": "code",
   "execution_count": null,
   "metadata": {},
   "outputs": [],
   "source": [
    "graph = StateGraph(State)\n",
    "\n",
    "graph.add_node(\"recebe_pergunta\", RunnableLambda(recebe_pergunta))\n",
    "graph.add_node(\"decisao\", RunnableLambda(precisa_pesquisar))\n",
    "graph.add_node(\"pesquisar\", RunnableLambda(pesquisar))\n",
    "graph.add_node(\"consultar_llm\", RunnableLambda(consultar_llm))\n",
    "graph.add_node(\"sintetizar\", RunnableLambda(sintetizar))\n",
    "graph.add_node(\"responder\", RunnableLambda(responder))"
   ]
  },
  {
   "cell_type": "markdown",
   "metadata": {},
   "source": [
    "# Transições de Estado e Condições"
   ]
  },
  {
   "cell_type": "code",
   "execution_count": null,
   "metadata": {},
   "outputs": [],
   "source": [
    "graph.set_entry_point(\"recebe_pergunta\")\n",
    "\n",
    "graph.add_edge(\"recebe_pergunta\", \"decisao\")\n",
    "graph.add_conditional_edges(\n",
    "    \"decisao\",\n",
    "    lambda state: state[\"next_step\"],  \n",
    "    {\n",
    "        \"pesquisar\": \"pesquisar\",\n",
    "        \"consultar_llm\": \"consultar_llm\"\n",
    "    }\n",
    ")\n",
    "graph.add_edge(\"pesquisar\", \"sintetizar\")\n",
    "graph.add_edge(\"consultar_llm\", \"responder\")\n",
    "graph.add_edge(\"sintetizar\", \"responder\")\n",
    "graph.set_finish_point(\"responder\")"
   ]
  },
  {
   "cell_type": "markdown",
   "metadata": {},
   "source": [
    "# Execução"
   ]
  },
  {
   "cell_type": "code",
   "execution_count": 17,
   "metadata": {},
   "outputs": [
    {
     "name": "stdout",
     "output_type": "stream",
     "text": [
      "\n",
      " TESTE 1:\n",
      "Usuário perguntou: Qual é a capital da Alemanha?\n",
      "Precisa pesquisar? False\n"
     ]
    },
    {
     "name": "stderr",
     "output_type": "stream",
     "text": [
      "INFO:httpx:HTTP Request: POST https://trainning-grassato-01.openai.azure.com/openai/deployments/gpt-4.1/chat/completions?api-version=2025-01-01-preview \"HTTP/1.1 200 OK\"\n"
     ]
    },
    {
     "name": "stdout",
     "output_type": "stream",
     "text": [
      "Resposta direta do LLM.\n",
      "\n",
      " Resposta Final:\n",
      "A capital da Alemanha é Berlim.\n"
     ]
    },
    {
     "data": {
      "text/plain": [
       "{'pergunta': 'Qual é a capital da Alemanha?',\n",
       " 'resposta': 'A capital da Alemanha é Berlim.'}"
      ]
     },
     "execution_count": 17,
     "metadata": {},
     "output_type": "execute_result"
    }
   ],
   "source": [
    "executable = graph.compile()\n",
    "\n",
    "print(\"\\n TESTE 1:\")\n",
    "executable.invoke({\"pergunta\": \"Qual é a capital da Alemanha?\"})\n",
    "\n"
   ]
  },
  {
   "cell_type": "code",
   "execution_count": 18,
   "metadata": {},
   "outputs": [
    {
     "name": "stdout",
     "output_type": "stream",
     "text": [
      "\n",
      "  TESTE 2:\n",
      "Usuário perguntou: Me mostre dados sobre economia brasileira em 2025.\n",
      "Precisa pesquisar? True\n",
      "Pesquisando no DuckDuckGo: Me mostre dados sobre economia brasileira em 2025.\n"
     ]
    },
    {
     "name": "stderr",
     "output_type": "stream",
     "text": [
      "/tmp/ipykernel_25803/1028576957.py:16: RuntimeWarning: This package (`duckduckgo_search`) has been renamed to `ddgs`! Use `pip install ddgs` instead.\n",
      "  with DDGS() as ddgs:\n",
      "INFO:primp:response: https://www.bing.com/search?q=Me+mostre+dados+sobre+economia+brasileira+em+2025. 200\n",
      "INFO:httpx:HTTP Request: POST https://trainning-grassato-01.openai.azure.com/openai/deployments/gpt-4.1/chat/completions?api-version=2025-01-01-preview \"HTTP/1.1 200 OK\"\n"
     ]
    },
    {
     "name": "stdout",
     "output_type": "stream",
     "text": [
      "Resposta sintetizada com contexto.\n",
      "\n",
      " Resposta Final:\n",
      "Em 2025, a economia brasileira apresenta os seguintes dados e tendências:\n",
      "\n",
      "- **Crescimento do PIB:** Projeções indicam um crescimento moderado, entre 2% e 2,5%, impulsionado principalmente pelo agronegócio, energia renovável e tecnologia.\n",
      "- **Inflação:** A inflação permanece sob controle, com estimativas em torno de 4% ao ano, dentro da meta estabelecida pelo Banco Central.\n",
      "- **Taxa de desemprego:** A taxa de desemprego segue em queda gradual, situando-se entre 7% e 8%, refletindo a recuperação de setores produtivos.\n",
      "- **Investimentos estrangeiros:** O Brasil continua atraindo investimentos, especialmente em energia limpa e inovação tecnológica, com fluxo de capital estrangeiro em alta.\n",
      "- **Setores em destaque:** O agronegócio mantém forte desempenho nas exportações, enquanto energia renovável (solar e eólica) e tecnologia apresentam crescimento acelerado.\n",
      "- **Desafios:** Apesar dos avanços, o país ainda enfrenta desafios como desigualdade social, infraestrutura deficiente e necessidade de reformas estruturais.\n",
      "\n",
      "Esses dados refletem um cenário de otimismo cauteloso para a economia brasileira em 2025, com oportunidades de crescimento e desafios a serem superados.\n"
     ]
    },
    {
     "data": {
      "text/plain": [
       "{'pergunta': 'Me mostre dados sobre economia brasileira em 2025.',\n",
       " 'conteudo': 'Em 2025, a economia brasileira apresenta um cenário de crescimento moderado, impulsionado por setores-chave como agronegócio, energia renovável e tecnologia, mas ainda enfrenta desafios …',\n",
       " 'resposta': 'Em 2025, a economia brasileira apresenta os seguintes dados e tendências:\\n\\n- **Crescimento do PIB:** Projeções indicam um crescimento moderado, entre 2% e 2,5%, impulsionado principalmente pelo agronegócio, energia renovável e tecnologia.\\n- **Inflação:** A inflação permanece sob controle, com estimativas em torno de 4% ao ano, dentro da meta estabelecida pelo Banco Central.\\n- **Taxa de desemprego:** A taxa de desemprego segue em queda gradual, situando-se entre 7% e 8%, refletindo a recuperação de setores produtivos.\\n- **Investimentos estrangeiros:** O Brasil continua atraindo investimentos, especialmente em energia limpa e inovação tecnológica, com fluxo de capital estrangeiro em alta.\\n- **Setores em destaque:** O agronegócio mantém forte desempenho nas exportações, enquanto energia renovável (solar e eólica) e tecnologia apresentam crescimento acelerado.\\n- **Desafios:** Apesar dos avanços, o país ainda enfrenta desafios como desigualdade social, infraestrutura deficiente e necessidade de reformas estruturais.\\n\\nEsses dados refletem um cenário de otimismo cauteloso para a economia brasileira em 2025, com oportunidades de crescimento e desafios a serem superados.'}"
      ]
     },
     "execution_count": 18,
     "metadata": {},
     "output_type": "execute_result"
    }
   ],
   "source": [
    "print(\"\\n  TESTE 2:\")\n",
    "executable.invoke({\"pergunta\": \"Me mostre dados sobre economia brasileira em 2025.\"})"
   ]
  },
  {
   "cell_type": "code",
   "execution_count": 19,
   "metadata": {},
   "outputs": [
    {
     "data": {
      "image/png": "[encoded data removed]",
      "text/plain": [
       "<IPython.core.display.Image object>"
      ]
     },
     "metadata": {},
     "output_type": "display_data"
    },
    {
     "name": "stdout",
     "output_type": "stream",
     "text": [
      "              +-----------+                 \n",
      "              | __start__ |                 \n",
      "              +-----------+                 \n",
      "                    *                       \n",
      "                    *                       \n",
      "                    *                       \n",
      "           +-----------------+              \n",
      "           | recebe_pergunta |              \n",
      "           +-----------------+              \n",
      "                    *                       \n",
      "                    *                       \n",
      "                    *                       \n",
      "               +---------+                  \n",
      "               | decisao |                  \n",
      "               +---------+                  \n",
      "             ..           ...               \n",
      "           ..                ..             \n",
      "         ..                    ..           \n",
      "+-----------+                    ..         \n",
      "| pesquisar |                     .         \n",
      "+-----------+                     .         \n",
      "       *                          .         \n",
      "       *                          .         \n",
      "       *                          .         \n",
      "+------------+           +---------------+  \n",
      "| sintetizar |           | consultar_llm |  \n",
      "+------------+           +---------------+  \n",
      "             **           **                \n",
      "               **       **                  \n",
      "                 **   **                    \n",
      "              +-----------+                 \n",
      "              | responder |                 \n",
      "              +-----------+                 \n",
      "                    *                       \n",
      "                    *                       \n",
      "                    *                       \n",
      "               +---------+                  \n",
      "               | __end__ |                  \n",
      "               +---------+                  \n",
      "None\n"
     ]
    }
   ],
   "source": [
    "# Exibindo o grafo\n",
    "display(Image(executable.get_graph().draw_mermaid_png()))\n",
    "\n",
    "print(executable.get_graph().print_ascii())"
   ]
  },
  {
   "cell_type": "markdown",
   "metadata": {},
   "source": [
    "## Exemplo 3"
   ]
  },
  {
   "cell_type": "code",
   "execution_count": null,
   "metadata": {},
   "outputs": [],
   "source": [
    " \n",
    "class ChatState(TypedDict):\n",
    "    pergunta: str\n",
    "    resposta: str\n",
    "\n",
    "# Função que responde perguntas\n",
    "def responder(state: ChatState) -> ChatState:\n",
    "    pergunta = state.get(\"pergunta\", \"\")\n",
    "    resposta = llm.invoke(pergunta)\n",
    "    return {\"pergunta\": pergunta, \"resposta\": resposta.content}\n",
    "\n",
    "# Construindo o grafo\n",
    "builder = StateGraph(ChatState)\n",
    " \n",
    "builder.add_node(\"responder\", responder)\n",
    "\n",
    "builder.set_entry_point(\"responder\")\n",
    "builder.add_edge(\"responder\", END)\n",
    "\n",
    "\n"
   ]
  },
  {
   "cell_type": "code",
   "execution_count": null,
   "metadata": {},
   "outputs": [],
   "source": [
    "# Compilando o grafo\n",
    "graph = builder.compile()\n",
    " "
   ]
  },
  {
   "cell_type": "code",
   "execution_count": null,
   "metadata": {},
   "outputs": [],
   "source": [
    "# Exibindo o grafo\n",
    "display(Image(graph.get_graph().draw_mermaid_png()))\n",
    "\n",
    "print(graph.get_graph().print_ascii())\n"
   ]
  },
  {
   "cell_type": "code",
   "execution_count": null,
   "metadata": {},
   "outputs": [],
   "source": [
    "pergunta = \"Qual a capital do Brasil?\"\n",
    "\n",
    "# Criando o agente\n",
    "entrada = ChatState({\"pergunta\": pergunta})\n",
    "resultado = graph.invoke(entrada)\n",
    "\n",
    "print(resultado)"
   ]
  },
  {
   "cell_type": "code",
   "execution_count": null,
   "metadata": {},
   "outputs": [],
   "source": []
  }
 ],
 "metadata": {
  "kernelspec": {
   "display_name": "Python (langchain)",
   "language": "python",
   "name": "langchain"
  },
  "language_info": {
   "codemirror_mode": {
    "name": "ipython",
    "version": 3
   },
   "file_extension": ".py",
   "mimetype": "text/x-python",
   "name": "python",
   "nbconvert_exporter": "python",
   "pygments_lexer": "ipython3",
   "version": "3.12.3"
  },
  "orig_nbformat": 4
 },
 "nbformat": 4,
 "nbformat_minor": 2
}
